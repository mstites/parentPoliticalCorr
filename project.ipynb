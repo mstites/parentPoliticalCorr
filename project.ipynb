{
 "cells": [
  {
   "cell_type": "markdown",
   "metadata": {},
   "source": [
    "# Parent Child Political Correlation\n",
    "Studying the correlation between parent's political affiliations and involvements and the political affiliations and involvement of their children."
   ]
  },
  {
   "cell_type": "markdown",
   "metadata": {},
   "source": [
    "Import some packages we will use later:"
   ]
  },
  {
   "cell_type": "code",
   "execution_count": 1,
   "metadata": {},
   "outputs": [],
   "source": [
    "import pandas as pd\n",
    "import numpy as np\n",
    "import os\n",
    "import seaborn as sns"
   ]
  },
  {
   "cell_type": "markdown",
   "metadata": {},
   "source": [
    "Unpack the tar file if the data file is not already uncompressed on this machine:"
   ]
  },
  {
   "cell_type": "code",
   "execution_count": 2,
   "metadata": {},
   "outputs": [],
   "source": [
    "if not os.path.exists('anes_timeseries_cdf_rawdata.txt'):\n",
    "    !tar -xvf data.tar.bz2"
   ]
  },
  {
   "cell_type": "markdown",
   "metadata": {},
   "source": [
    "Import the data and save as dataframe:"
   ]
  },
  {
   "cell_type": "code",
   "execution_count": 3,
   "metadata": {},
   "outputs": [],
   "source": [
    "def values(series):\n",
    "    \"\"\"Count the values and sort.\n",
    "    \n",
    "    series: pd.Series\n",
    "    \n",
    "    returns: series mapping from values to frequencies\n",
    "    \"\"\"\n",
    "    return series.value_counts().sort_index()"
   ]
  },
  {
   "cell_type": "markdown",
   "metadata": {},
   "source": [
    "## Load & Prepare the Data"
   ]
  },
  {
   "cell_type": "code",
   "execution_count": 4,
   "metadata": {},
   "outputs": [
    {
     "data": {
      "text/html": [
       "<div>\n",
       "<style scoped>\n",
       "    .dataframe tbody tr th:only-of-type {\n",
       "        vertical-align: middle;\n",
       "    }\n",
       "\n",
       "    .dataframe tbody tr th {\n",
       "        vertical-align: top;\n",
       "    }\n",
       "\n",
       "    .dataframe thead th {\n",
       "        text-align: right;\n",
       "    }\n",
       "</style>\n",
       "<table border=\"1\" class=\"dataframe\">\n",
       "  <thead>\n",
       "    <tr style=\"text-align: right;\">\n",
       "      <th></th>\n",
       "      <th>Version</th>\n",
       "      <th>VCF0004</th>\n",
       "      <th>VCF0006</th>\n",
       "      <th>VCF0006a</th>\n",
       "      <th>VCF0009x</th>\n",
       "      <th>VCF0010x</th>\n",
       "      <th>VCF0011x</th>\n",
       "      <th>VCF0009y</th>\n",
       "      <th>VCF0010y</th>\n",
       "      <th>VCF0011y</th>\n",
       "      <th>...</th>\n",
       "      <th>VCF9272</th>\n",
       "      <th>VCF9273</th>\n",
       "      <th>VCF9274</th>\n",
       "      <th>VCF9275</th>\n",
       "      <th>VCF9277</th>\n",
       "      <th>VCF9278</th>\n",
       "      <th>VCF9279</th>\n",
       "      <th>VCF9280</th>\n",
       "      <th>VCF9281</th>\n",
       "      <th>VCF9282</th>\n",
       "    </tr>\n",
       "  </thead>\n",
       "  <tbody>\n",
       "    <tr>\n",
       "      <th>0</th>\n",
       "      <td>ANES_CDF_VERSION:2019-Sep-10</td>\n",
       "      <td>1948</td>\n",
       "      <td>1001</td>\n",
       "      <td>19481001</td>\n",
       "      <td>1.0</td>\n",
       "      <td>1.0</td>\n",
       "      <td>1.0</td>\n",
       "      <td>1.000</td>\n",
       "      <td>1.000</td>\n",
       "      <td>1.000</td>\n",
       "      <td>...</td>\n",
       "      <td></td>\n",
       "      <td></td>\n",
       "      <td></td>\n",
       "      <td></td>\n",
       "      <td></td>\n",
       "      <td></td>\n",
       "      <td></td>\n",
       "      <td></td>\n",
       "      <td></td>\n",
       "      <td></td>\n",
       "    </tr>\n",
       "    <tr>\n",
       "      <th>1</th>\n",
       "      <td>ANES_CDF_VERSION:2019-Sep-10</td>\n",
       "      <td>1948</td>\n",
       "      <td>1002</td>\n",
       "      <td>19481002</td>\n",
       "      <td>1.0</td>\n",
       "      <td>1.0</td>\n",
       "      <td>1.0</td>\n",
       "      <td>1.000</td>\n",
       "      <td>1.000</td>\n",
       "      <td>1.000</td>\n",
       "      <td>...</td>\n",
       "      <td></td>\n",
       "      <td></td>\n",
       "      <td></td>\n",
       "      <td></td>\n",
       "      <td></td>\n",
       "      <td></td>\n",
       "      <td></td>\n",
       "      <td></td>\n",
       "      <td></td>\n",
       "      <td></td>\n",
       "    </tr>\n",
       "    <tr>\n",
       "      <th>2</th>\n",
       "      <td>ANES_CDF_VERSION:2019-Sep-10</td>\n",
       "      <td>1948</td>\n",
       "      <td>1003</td>\n",
       "      <td>19481003</td>\n",
       "      <td>1.0</td>\n",
       "      <td>1.0</td>\n",
       "      <td>1.0</td>\n",
       "      <td>1.000</td>\n",
       "      <td>1.000</td>\n",
       "      <td>1.000</td>\n",
       "      <td>...</td>\n",
       "      <td></td>\n",
       "      <td></td>\n",
       "      <td></td>\n",
       "      <td></td>\n",
       "      <td></td>\n",
       "      <td></td>\n",
       "      <td></td>\n",
       "      <td></td>\n",
       "      <td></td>\n",
       "      <td></td>\n",
       "    </tr>\n",
       "    <tr>\n",
       "      <th>3</th>\n",
       "      <td>ANES_CDF_VERSION:2019-Sep-10</td>\n",
       "      <td>1948</td>\n",
       "      <td>1004</td>\n",
       "      <td>19481004</td>\n",
       "      <td>1.0</td>\n",
       "      <td>1.0</td>\n",
       "      <td>1.0</td>\n",
       "      <td>1.000</td>\n",
       "      <td>1.000</td>\n",
       "      <td>1.000</td>\n",
       "      <td>...</td>\n",
       "      <td></td>\n",
       "      <td></td>\n",
       "      <td></td>\n",
       "      <td></td>\n",
       "      <td></td>\n",
       "      <td></td>\n",
       "      <td></td>\n",
       "      <td></td>\n",
       "      <td></td>\n",
       "      <td></td>\n",
       "    </tr>\n",
       "    <tr>\n",
       "      <th>4</th>\n",
       "      <td>ANES_CDF_VERSION:2019-Sep-10</td>\n",
       "      <td>1948</td>\n",
       "      <td>1005</td>\n",
       "      <td>19481005</td>\n",
       "      <td>1.0</td>\n",
       "      <td>1.0</td>\n",
       "      <td>1.0</td>\n",
       "      <td>1.000</td>\n",
       "      <td>1.000</td>\n",
       "      <td>1.000</td>\n",
       "      <td>...</td>\n",
       "      <td></td>\n",
       "      <td></td>\n",
       "      <td></td>\n",
       "      <td></td>\n",
       "      <td></td>\n",
       "      <td></td>\n",
       "      <td></td>\n",
       "      <td></td>\n",
       "      <td></td>\n",
       "      <td></td>\n",
       "    </tr>\n",
       "    <tr>\n",
       "      <th>...</th>\n",
       "      <td>...</td>\n",
       "      <td>...</td>\n",
       "      <td>...</td>\n",
       "      <td>...</td>\n",
       "      <td>...</td>\n",
       "      <td>...</td>\n",
       "      <td>...</td>\n",
       "      <td>...</td>\n",
       "      <td>...</td>\n",
       "      <td>...</td>\n",
       "      <td>...</td>\n",
       "      <td>...</td>\n",
       "      <td>...</td>\n",
       "      <td>...</td>\n",
       "      <td>...</td>\n",
       "      <td>...</td>\n",
       "      <td>...</td>\n",
       "      <td>...</td>\n",
       "      <td>...</td>\n",
       "      <td>...</td>\n",
       "      <td>...</td>\n",
       "    </tr>\n",
       "    <tr>\n",
       "      <th>59939</th>\n",
       "      <td>ANES_CDF_VERSION:2019-Sep-10</td>\n",
       "      <td>2016</td>\n",
       "      <td>5086</td>\n",
       "      <td>20165086</td>\n",
       "      <td>0.0</td>\n",
       "      <td>0.0</td>\n",
       "      <td>0.0</td>\n",
       "      <td>0.818</td>\n",
       "      <td>0.818</td>\n",
       "      <td>0.818</td>\n",
       "      <td>...</td>\n",
       "      <td>2</td>\n",
       "      <td>1</td>\n",
       "      <td></td>\n",
       "      <td>3</td>\n",
       "      <td>1</td>\n",
       "      <td>2</td>\n",
       "      <td>1</td>\n",
       "      <td>1</td>\n",
       "      <td>1</td>\n",
       "      <td>1</td>\n",
       "    </tr>\n",
       "    <tr>\n",
       "      <th>59940</th>\n",
       "      <td>ANES_CDF_VERSION:2019-Sep-10</td>\n",
       "      <td>2016</td>\n",
       "      <td>5087</td>\n",
       "      <td>20165087</td>\n",
       "      <td>0.0</td>\n",
       "      <td>0.0</td>\n",
       "      <td>0.0</td>\n",
       "      <td>1.280</td>\n",
       "      <td>1.280</td>\n",
       "      <td>1.280</td>\n",
       "      <td>...</td>\n",
       "      <td>3</td>\n",
       "      <td>6</td>\n",
       "      <td></td>\n",
       "      <td>2</td>\n",
       "      <td>-9</td>\n",
       "      <td>-9</td>\n",
       "      <td>1</td>\n",
       "      <td>2</td>\n",
       "      <td>1</td>\n",
       "      <td>1</td>\n",
       "    </tr>\n",
       "    <tr>\n",
       "      <th>59941</th>\n",
       "      <td>ANES_CDF_VERSION:2019-Sep-10</td>\n",
       "      <td>2016</td>\n",
       "      <td>5088</td>\n",
       "      <td>20165088</td>\n",
       "      <td>0.0</td>\n",
       "      <td>0.0</td>\n",
       "      <td>0.0</td>\n",
       "      <td>3.788</td>\n",
       "      <td>3.788</td>\n",
       "      <td>3.788</td>\n",
       "      <td>...</td>\n",
       "      <td>1</td>\n",
       "      <td>5</td>\n",
       "      <td></td>\n",
       "      <td>2</td>\n",
       "      <td>-9</td>\n",
       "      <td>-9</td>\n",
       "      <td>1</td>\n",
       "      <td>2</td>\n",
       "      <td>1</td>\n",
       "      <td>1</td>\n",
       "    </tr>\n",
       "    <tr>\n",
       "      <th>59942</th>\n",
       "      <td>ANES_CDF_VERSION:2019-Sep-10</td>\n",
       "      <td>2016</td>\n",
       "      <td>5089</td>\n",
       "      <td>20165089</td>\n",
       "      <td>0.0</td>\n",
       "      <td>0.0</td>\n",
       "      <td>0.0</td>\n",
       "      <td>1.162</td>\n",
       "      <td>1.162</td>\n",
       "      <td>1.162</td>\n",
       "      <td>...</td>\n",
       "      <td>2</td>\n",
       "      <td>2</td>\n",
       "      <td></td>\n",
       "      <td>3</td>\n",
       "      <td>2</td>\n",
       "      <td>2</td>\n",
       "      <td>1</td>\n",
       "      <td>2</td>\n",
       "      <td>1</td>\n",
       "      <td>1</td>\n",
       "    </tr>\n",
       "    <tr>\n",
       "      <th>59943</th>\n",
       "      <td>ANES_CDF_VERSION:2019-Sep-10</td>\n",
       "      <td>2016</td>\n",
       "      <td>5090</td>\n",
       "      <td>20165090</td>\n",
       "      <td>0.0</td>\n",
       "      <td>0.0</td>\n",
       "      <td>0.0</td>\n",
       "      <td>1.424</td>\n",
       "      <td>1.424</td>\n",
       "      <td>1.424</td>\n",
       "      <td>...</td>\n",
       "      <td>-9</td>\n",
       "      <td>-9</td>\n",
       "      <td></td>\n",
       "      <td>-9</td>\n",
       "      <td>1</td>\n",
       "      <td>2</td>\n",
       "      <td>1</td>\n",
       "      <td>2</td>\n",
       "      <td>1</td>\n",
       "      <td>1</td>\n",
       "    </tr>\n",
       "  </tbody>\n",
       "</table>\n",
       "<p>59944 rows × 1029 columns</p>\n",
       "</div>"
      ],
      "text/plain": [
       "                            Version  VCF0004  VCF0006  VCF0006a  VCF0009x  \\\n",
       "0      ANES_CDF_VERSION:2019-Sep-10     1948     1001  19481001       1.0   \n",
       "1      ANES_CDF_VERSION:2019-Sep-10     1948     1002  19481002       1.0   \n",
       "2      ANES_CDF_VERSION:2019-Sep-10     1948     1003  19481003       1.0   \n",
       "3      ANES_CDF_VERSION:2019-Sep-10     1948     1004  19481004       1.0   \n",
       "4      ANES_CDF_VERSION:2019-Sep-10     1948     1005  19481005       1.0   \n",
       "...                             ...      ...      ...       ...       ...   \n",
       "59939  ANES_CDF_VERSION:2019-Sep-10     2016     5086  20165086       0.0   \n",
       "59940  ANES_CDF_VERSION:2019-Sep-10     2016     5087  20165087       0.0   \n",
       "59941  ANES_CDF_VERSION:2019-Sep-10     2016     5088  20165088       0.0   \n",
       "59942  ANES_CDF_VERSION:2019-Sep-10     2016     5089  20165089       0.0   \n",
       "59943  ANES_CDF_VERSION:2019-Sep-10     2016     5090  20165090       0.0   \n",
       "\n",
       "       VCF0010x  VCF0011x  VCF0009y  VCF0010y  VCF0011y  ...  VCF9272  \\\n",
       "0           1.0       1.0     1.000     1.000     1.000  ...            \n",
       "1           1.0       1.0     1.000     1.000     1.000  ...            \n",
       "2           1.0       1.0     1.000     1.000     1.000  ...            \n",
       "3           1.0       1.0     1.000     1.000     1.000  ...            \n",
       "4           1.0       1.0     1.000     1.000     1.000  ...            \n",
       "...         ...       ...       ...       ...       ...  ...      ...   \n",
       "59939       0.0       0.0     0.818     0.818     0.818  ...        2   \n",
       "59940       0.0       0.0     1.280     1.280     1.280  ...        3   \n",
       "59941       0.0       0.0     3.788     3.788     3.788  ...        1   \n",
       "59942       0.0       0.0     1.162     1.162     1.162  ...        2   \n",
       "59943       0.0       0.0     1.424     1.424     1.424  ...       -9   \n",
       "\n",
       "       VCF9273  VCF9274  VCF9275  VCF9277  VCF9278  VCF9279  VCF9280  VCF9281  \\\n",
       "0                                                                               \n",
       "1                                                                               \n",
       "2                                                                               \n",
       "3                                                                               \n",
       "4                                                                               \n",
       "...        ...      ...      ...      ...      ...      ...      ...      ...   \n",
       "59939        1                 3        1        2        1        1        1   \n",
       "59940        6                 2       -9       -9        1        2        1   \n",
       "59941        5                 2       -9       -9        1        2        1   \n",
       "59942        2                 3        2        2        1        2        1   \n",
       "59943       -9                -9        1        2        1        2        1   \n",
       "\n",
       "       VCF9282  \n",
       "0               \n",
       "1               \n",
       "2               \n",
       "3               \n",
       "4               \n",
       "...        ...  \n",
       "59939        1  \n",
       "59940        1  \n",
       "59941        1  \n",
       "59942        1  \n",
       "59943        1  \n",
       "\n",
       "[59944 rows x 1029 columns]"
      ]
     },
     "execution_count": 4,
     "metadata": {},
     "output_type": "execute_result"
    }
   ],
   "source": [
    "anes = pd.read_csv('anes_timeseries_cdf_rawdata.txt', delimiter=',', low_memory=False, na_values=' ')\n",
    "anes"
   ]
  },
  {
   "cell_type": "markdown",
   "metadata": {},
   "source": [
    "Load and clean the variables for the respondent's parent's political affiliation:"
   ]
  },
  {
   "cell_type": "code",
   "execution_count": 5,
   "metadata": {},
   "outputs": [
    {
     "data": {
      "text/plain": [
       "0.0    1446\n",
       "1.0    9747\n",
       "2.0    1355\n",
       "3.0    5351\n",
       "4.0    1203\n",
       "9.0    2278\n",
       "Name: DadPol, dtype: int64"
      ]
     },
     "execution_count": 5,
     "metadata": {},
     "output_type": "execute_result"
    }
   ],
   "source": [
    "fatherPol = anes['VCF0306']\n",
    "fatherPol.name='DadPol'\n",
    "values(fatherPol)"
   ]
  },
  {
   "cell_type": "code",
   "execution_count": 6,
   "metadata": {},
   "outputs": [
    {
     "data": {
      "text/plain": [
       "0.0    1363\n",
       "1.0    9337\n",
       "2.0    1416\n",
       "3.0    5061\n",
       "4.0    1702\n",
       "9.0    2501\n",
       "Name: MomPol, dtype: int64"
      ]
     },
     "execution_count": 6,
     "metadata": {},
     "output_type": "execute_result"
    }
   ],
   "source": [
    "motherPol = anes['VCF0307']\n",
    "motherPol.name='MomPol'\n",
    "values(motherPol)"
   ]
  },
  {
   "cell_type": "markdown",
   "metadata": {},
   "source": [
    "And clean the data. The values 0, 4, and 9 represent \"NA\", \"Other\" and  \"Don't know\" respectively."
   ]
  },
  {
   "cell_type": "code",
   "execution_count": 7,
   "metadata": {},
   "outputs": [
    {
     "data": {
      "text/plain": [
       "1.0    9747\n",
       "2.0    1355\n",
       "3.0    5351\n",
       "Name: DadPol, dtype: int64"
      ]
     },
     "execution_count": 7,
     "metadata": {},
     "output_type": "execute_result"
    }
   ],
   "source": [
    "fatherPolClean = fatherPol.replace([0, 4, 9], np.nan)\n",
    "values(fatherPolClean)"
   ]
  },
  {
   "cell_type": "code",
   "execution_count": 8,
   "metadata": {},
   "outputs": [
    {
     "data": {
      "text/plain": [
       "1.0    9337\n",
       "2.0    1416\n",
       "3.0    5061\n",
       "Name: MomPol, dtype: int64"
      ]
     },
     "execution_count": 8,
     "metadata": {},
     "output_type": "execute_result"
    }
   ],
   "source": [
    "motherPolClean = motherPol.replace([0, 4, 9], np.nan)\n",
    "values(motherPolClean)"
   ]
  },
  {
   "cell_type": "markdown",
   "metadata": {},
   "source": [
    "Now let's load and clean the variable for the respondent's political affiliation. Where:\n",
    "\n",
    "0. NA\n",
    "1. Strong Democrat\n",
    "2. Weak Democrat\n",
    "3. Independent -Democrat\n",
    "4. Independent -Independent\n",
    "5. Independent -Republican\n",
    "6. Weak Republican\n",
    "7. Strong Republican"
   ]
  },
  {
   "cell_type": "code",
   "execution_count": 9,
   "metadata": {},
   "outputs": [
    {
     "data": {
      "text/plain": [
       "1.0    11695\n",
       "2.0    11820\n",
       "3.0     6886\n",
       "4.0     6988\n",
       "5.0     5882\n",
       "6.0     7921\n",
       "7.0     7075\n",
       "Name: PolView, dtype: int64"
      ]
     },
     "execution_count": 9,
     "metadata": {},
     "output_type": "execute_result"
    }
   ],
   "source": [
    "pol = anes['VCF0301']\n",
    "pol.name='PolView'\n",
    "polClean = pol.replace([0], np.nan)\n",
    "values(polClean)"
   ]
  },
  {
   "cell_type": "markdown",
   "metadata": {},
   "source": [
    "Finally load the year time series and construct a new dataframe with the cleaned data."
   ]
  },
  {
   "cell_type": "code",
   "execution_count": 11,
   "metadata": {},
   "outputs": [
    {
     "data": {
      "text/plain": [
       "1948     662\n",
       "1952    1899\n",
       "1954    1139\n",
       "1956    1762\n",
       "1958    1450\n",
       "1960    1181\n",
       "1962    1297\n",
       "1964    1571\n",
       "1966    1291\n",
       "1968    1557\n",
       "1970    1507\n",
       "1972    2705\n",
       "1974    1575\n",
       "1976    2248\n",
       "1978    2304\n",
       "1980    1614\n",
       "1982    1418\n",
       "1984    2257\n",
       "1986    2176\n",
       "1988    2040\n",
       "1990    1980\n",
       "1992    2485\n",
       "1994    1795\n",
       "1996    1714\n",
       "1998    1281\n",
       "2000    1807\n",
       "2002    1511\n",
       "2004    1212\n",
       "2008    2322\n",
       "2012    5914\n",
       "2016    4270\n",
       "Name: Year, dtype: int64"
      ]
     },
     "execution_count": 11,
     "metadata": {},
     "output_type": "execute_result"
    }
   ],
   "source": [
    "year = anes['VCF0004']\n",
    "year.name='Year'\n",
    "values(year)"
   ]
  },
  {
   "cell_type": "markdown",
   "metadata": {},
   "source": [
    "## Analysis\n",
    "* Test result of democrat mother and father\n",
    "* Test result of republican mother and father\n",
    "* Test result of indepenent mother and father\n",
    "* Test result of mixed, for verification (do this last)"
   ]
  },
  {
   "cell_type": "code",
   "execution_count": 12,
   "metadata": {},
   "outputs": [
    {
     "ename": "NameError",
     "evalue": "name 'df' is not defined",
     "output_type": "error",
     "traceback": [
      "\u001b[0;31m---------------------------------------------------------------------------\u001b[0m",
      "\u001b[0;31mNameError\u001b[0m                                 Traceback (most recent call last)",
      "\u001b[0;32m<ipython-input-12-4dbcf6461a4f>\u001b[0m in \u001b[0;36m<module>\u001b[0;34m\u001b[0m\n\u001b[0;32m----> 1\u001b[0;31m \u001b[0mby\u001b[0m \u001b[0;34m=\u001b[0m \u001b[0mdf\u001b[0m\u001b[0;34m.\u001b[0m\u001b[0mgroupby\u001b[0m\u001b[0;34m(\u001b[0m\u001b[0;34m'VCF0301'\u001b[0m\u001b[0;34m)\u001b[0m\u001b[0;34m\u001b[0m\u001b[0;34m\u001b[0m\u001b[0m\n\u001b[0m",
      "\u001b[0;31mNameError\u001b[0m: name 'df' is not defined"
     ]
    }
   ],
   "source": [
    "by = df.groupby('VCF0301')"
   ]
  },
  {
   "cell_type": "code",
   "execution_count": null,
   "metadata": {},
   "outputs": [],
   "source": [
    "df = pd.DataFrame([polClean], index=year)\n",
    "df "
   ]
  },
  {
   "cell_type": "code",
   "execution_count": 15,
   "metadata": {},
   "outputs": [
    {
     "ename": "NameError",
     "evalue": "name 'd_polviews' is not defined",
     "output_type": "error",
     "traceback": [
      "\u001b[0;31m---------------------------------------------------------------------------\u001b[0m",
      "\u001b[0;31mNameError\u001b[0m                                 Traceback (most recent call last)",
      "\u001b[0;32m<ipython-input-15-ca26f14c73bc>\u001b[0m in \u001b[0;36m<module>\u001b[0;34m\u001b[0m\n\u001b[0;32m----> 1\u001b[0;31m \u001b[0mpolClean\u001b[0m \u001b[0;34m=\u001b[0m \u001b[0mpolClean\u001b[0m\u001b[0;34m.\u001b[0m\u001b[0mreplace\u001b[0m\u001b[0;34m(\u001b[0m\u001b[0md_polviews\u001b[0m\u001b[0;34m)\u001b[0m\u001b[0;34m\u001b[0m\u001b[0;34m\u001b[0m\u001b[0m\n\u001b[0m\u001b[1;32m      2\u001b[0m \u001b[0mvalues\u001b[0m\u001b[0;34m(\u001b[0m\u001b[0mpolClean\u001b[0m\u001b[0;34m)\u001b[0m\u001b[0;34m\u001b[0m\u001b[0;34m\u001b[0m\u001b[0m\n",
      "\u001b[0;31mNameError\u001b[0m: name 'd_polviews' is not defined"
     ]
    }
   ],
   "source": [
    "polClean = polClean.replace(d_polviews)\n",
    "values(polClean)"
   ]
  },
  {
   "cell_type": "code",
   "execution_count": null,
   "metadata": {},
   "outputs": [],
   "source": [
    "d_polviews = {1:'Democrat', \n",
    "              2:'Democrat', \n",
    "              3:'Democrat', \n",
    "              4:'Independent', \n",
    "              5:'Republican', \n",
    "              6:'Republican', \n",
    "              7:'Republican'}"
   ]
  },
  {
   "cell_type": "code",
   "execution_count": 128,
   "metadata": {},
   "outputs": [],
   "source": [
    "polParty = {1:'Democrat', \n",
    "            2:'Independent', \n",
    "            3:'Republican'}"
   ]
  },
  {
   "cell_type": "code",
   "execution_count": 113,
   "metadata": {},
   "outputs": [],
   "source": [
    "from statsmodels.nonparametric.smoothers_lowess import lowess\n",
    "\n",
    "def make_lowess(series):\n",
    "    \"\"\"Use LOWESS to compute a smooth line.\n",
    "    \n",
    "    series: pd.Series\n",
    "    \n",
    "    returns: pd.Series\n",
    "    \"\"\"\n",
    "    y = series.values\n",
    "    x = series.index.values\n",
    "\n",
    "    smooth = lowess(y, x)\n",
    "    index, data = np.transpose(smooth)\n",
    "\n",
    "    return pd.Series(data, index=index) "
   ]
  },
  {
   "cell_type": "code",
   "execution_count": 114,
   "metadata": {},
   "outputs": [],
   "source": [
    "def plot_series_lowess(series, color):\n",
    "    \"\"\"Plots a series of data points and a smooth line.\n",
    "    \n",
    "    series: pd.Series\n",
    "    color: string or tuple\n",
    "    \"\"\"\n",
    "    series.plot(linewidth=0, marker='o', color=color, alpha=0.5)\n",
    "    smooth = make_lowess(series)\n",
    "    smooth.plot(label='_', color=color)"
   ]
  },
  {
   "cell_type": "code",
   "execution_count": 118,
   "metadata": {},
   "outputs": [
    {
     "data": {
      "text/plain": [
       "array([    0,     1,     2, ..., 59941, 59942, 59943])"
      ]
     },
     "execution_count": 118,
     "metadata": {},
     "output_type": "execute_result"
    }
   ],
   "source": [
    "Need to remap back to values to plot"
   ]
  },
  {
   "cell_type": "code",
   "execution_count": 124,
   "metadata": {},
   "outputs": [
    {
     "data": {
      "image/png": "[encoded data removed]",
      "text/plain": [
       "<Figure size 360x72 with 1 Axes>"
      ]
     },
     "metadata": {
      "needs_background": "light"
     },
     "output_type": "display_data"
    }
   ],
   "source": [
    "muted = sns.color_palette('muted', 5)\n",
    "sns.palplot(muted)"
   ]
  },
  {
   "cell_type": "code",
   "execution_count": 125,
   "metadata": {},
   "outputs": [],
   "source": [
    "columns = ['Conservative', 'Liberal', 'Moderate']\n",
    "colors = {'Conservative': muted[3], \n",
    "              'Moderate': muted[4], \n",
    "               'Liberal': muted[0]}"
   ]
  },
  {
   "cell_type": "code",
   "execution_count": 126,
   "metadata": {},
   "outputs": [
    {
     "ename": "TypeError",
     "evalue": "no numeric data to plot",
     "output_type": "error",
     "traceback": [
      "\u001b[0;31m---------------------------------------------------------------------------\u001b[0m",
      "\u001b[0;31mTypeError\u001b[0m                                 Traceback (most recent call last)",
      "\u001b[0;32m<ipython-input-126-5eb59aa0ecbe>\u001b[0m in \u001b[0;36m<module>\u001b[0;34m\u001b[0m\n\u001b[0;32m----> 1\u001b[0;31m \u001b[0mplot_series_lowess\u001b[0m\u001b[0;34m(\u001b[0m\u001b[0mpolClean\u001b[0m\u001b[0;34m,\u001b[0m \u001b[0;34m'C1'\u001b[0m\u001b[0;34m)\u001b[0m\u001b[0;34m\u001b[0m\u001b[0;34m\u001b[0m\u001b[0m\n\u001b[0m\u001b[1;32m      2\u001b[0m \u001b[0;34m\u001b[0m\u001b[0m\n\u001b[1;32m      3\u001b[0m decorate(xlabel='Year',\n\u001b[1;32m      4\u001b[0m          \u001b[0mylabel\u001b[0m\u001b[0;34m=\u001b[0m\u001b[0;34m'Fraction saying yes'\u001b[0m\u001b[0;34m,\u001b[0m\u001b[0;34m\u001b[0m\u001b[0;34m\u001b[0m\u001b[0m\n\u001b[1;32m      5\u001b[0m          \u001b[0mxlim\u001b[0m\u001b[0;34m=\u001b[0m\u001b[0;34m[\u001b[0m\u001b[0;36m1948\u001b[0m\u001b[0;34m,\u001b[0m \u001b[0;36m2016\u001b[0m\u001b[0;34m]\u001b[0m\u001b[0;34m,\u001b[0m\u001b[0;34m\u001b[0m\u001b[0;34m\u001b[0m\u001b[0m\n",
      "\u001b[0;32m<ipython-input-114-4db1718dada0>\u001b[0m in \u001b[0;36mplot_series_lowess\u001b[0;34m(series, color)\u001b[0m\n\u001b[1;32m      5\u001b[0m     \u001b[0mcolor\u001b[0m\u001b[0;34m:\u001b[0m \u001b[0mstring\u001b[0m \u001b[0;32mor\u001b[0m \u001b[0mtuple\u001b[0m\u001b[0;34m\u001b[0m\u001b[0;34m\u001b[0m\u001b[0m\n\u001b[1;32m      6\u001b[0m     \"\"\"\n\u001b[0;32m----> 7\u001b[0;31m     \u001b[0mseries\u001b[0m\u001b[0;34m.\u001b[0m\u001b[0mplot\u001b[0m\u001b[0;34m(\u001b[0m\u001b[0mlinewidth\u001b[0m\u001b[0;34m=\u001b[0m\u001b[0;36m0\u001b[0m\u001b[0;34m,\u001b[0m \u001b[0mmarker\u001b[0m\u001b[0;34m=\u001b[0m\u001b[0;34m'o'\u001b[0m\u001b[0;34m,\u001b[0m \u001b[0mcolor\u001b[0m\u001b[0;34m=\u001b[0m\u001b[0mcolor\u001b[0m\u001b[0;34m,\u001b[0m \u001b[0malpha\u001b[0m\u001b[0;34m=\u001b[0m\u001b[0;36m0.5\u001b[0m\u001b[0;34m)\u001b[0m\u001b[0;34m\u001b[0m\u001b[0;34m\u001b[0m\u001b[0m\n\u001b[0m\u001b[1;32m      8\u001b[0m     \u001b[0msmooth\u001b[0m \u001b[0;34m=\u001b[0m \u001b[0mmake_lowess\u001b[0m\u001b[0;34m(\u001b[0m\u001b[0mseries\u001b[0m\u001b[0;34m)\u001b[0m\u001b[0;34m\u001b[0m\u001b[0;34m\u001b[0m\u001b[0m\n\u001b[1;32m      9\u001b[0m     \u001b[0msmooth\u001b[0m\u001b[0;34m.\u001b[0m\u001b[0mplot\u001b[0m\u001b[0;34m(\u001b[0m\u001b[0mlabel\u001b[0m\u001b[0;34m=\u001b[0m\u001b[0;34m'_'\u001b[0m\u001b[0;34m,\u001b[0m \u001b[0mcolor\u001b[0m\u001b[0;34m=\u001b[0m\u001b[0mcolor\u001b[0m\u001b[0;34m)\u001b[0m\u001b[0;34m\u001b[0m\u001b[0;34m\u001b[0m\u001b[0m\n",
      "\u001b[0;32m~/.local/lib/python3.8/site-packages/pandas/plotting/_core.py\u001b[0m in \u001b[0;36m__call__\u001b[0;34m(self, *args, **kwargs)\u001b[0m\n\u001b[1;32m    845\u001b[0m                     \u001b[0mdata\u001b[0m\u001b[0;34m.\u001b[0m\u001b[0mcolumns\u001b[0m \u001b[0;34m=\u001b[0m \u001b[0mlabel_name\u001b[0m\u001b[0;34m\u001b[0m\u001b[0;34m\u001b[0m\u001b[0m\n\u001b[1;32m    846\u001b[0m \u001b[0;34m\u001b[0m\u001b[0m\n\u001b[0;32m--> 847\u001b[0;31m         \u001b[0;32mreturn\u001b[0m \u001b[0mplot_backend\u001b[0m\u001b[0;34m.\u001b[0m\u001b[0mplot\u001b[0m\u001b[0;34m(\u001b[0m\u001b[0mdata\u001b[0m\u001b[0;34m,\u001b[0m \u001b[0mkind\u001b[0m\u001b[0;34m=\u001b[0m\u001b[0mkind\u001b[0m\u001b[0;34m,\u001b[0m \u001b[0;34m**\u001b[0m\u001b[0mkwargs\u001b[0m\u001b[0;34m)\u001b[0m\u001b[0;34m\u001b[0m\u001b[0;34m\u001b[0m\u001b[0m\n\u001b[0m\u001b[1;32m    848\u001b[0m \u001b[0;34m\u001b[0m\u001b[0m\n\u001b[1;32m    849\u001b[0m     \u001b[0m__call__\u001b[0m\u001b[0;34m.\u001b[0m\u001b[0m__doc__\u001b[0m \u001b[0;34m=\u001b[0m \u001b[0m__doc__\u001b[0m\u001b[0;34m\u001b[0m\u001b[0;34m\u001b[0m\u001b[0m\n",
      "\u001b[0;32m~/.local/lib/python3.8/site-packages/pandas/plotting/_matplotlib/__init__.py\u001b[0m in \u001b[0;36mplot\u001b[0;34m(data, kind, **kwargs)\u001b[0m\n\u001b[1;32m     59\u001b[0m             \u001b[0mkwargs\u001b[0m\u001b[0;34m[\u001b[0m\u001b[0;34m\"ax\"\u001b[0m\u001b[0;34m]\u001b[0m \u001b[0;34m=\u001b[0m \u001b[0mgetattr\u001b[0m\u001b[0;34m(\u001b[0m\u001b[0max\u001b[0m\u001b[0;34m,\u001b[0m \u001b[0;34m\"left_ax\"\u001b[0m\u001b[0;34m,\u001b[0m \u001b[0max\u001b[0m\u001b[0;34m)\u001b[0m\u001b[0;34m\u001b[0m\u001b[0;34m\u001b[0m\u001b[0m\n\u001b[1;32m     60\u001b[0m     \u001b[0mplot_obj\u001b[0m \u001b[0;34m=\u001b[0m \u001b[0mPLOT_CLASSES\u001b[0m\u001b[0;34m[\u001b[0m\u001b[0mkind\u001b[0m\u001b[0;34m]\u001b[0m\u001b[0;34m(\u001b[0m\u001b[0mdata\u001b[0m\u001b[0;34m,\u001b[0m \u001b[0;34m**\u001b[0m\u001b[0mkwargs\u001b[0m\u001b[0;34m)\u001b[0m\u001b[0;34m\u001b[0m\u001b[0;34m\u001b[0m\u001b[0m\n\u001b[0;32m---> 61\u001b[0;31m     \u001b[0mplot_obj\u001b[0m\u001b[0;34m.\u001b[0m\u001b[0mgenerate\u001b[0m\u001b[0;34m(\u001b[0m\u001b[0;34m)\u001b[0m\u001b[0;34m\u001b[0m\u001b[0;34m\u001b[0m\u001b[0m\n\u001b[0m\u001b[1;32m     62\u001b[0m     \u001b[0mplot_obj\u001b[0m\u001b[0;34m.\u001b[0m\u001b[0mdraw\u001b[0m\u001b[0;34m(\u001b[0m\u001b[0;34m)\u001b[0m\u001b[0;34m\u001b[0m\u001b[0;34m\u001b[0m\u001b[0m\n\u001b[1;32m     63\u001b[0m     \u001b[0;32mreturn\u001b[0m \u001b[0mplot_obj\u001b[0m\u001b[0;34m.\u001b[0m\u001b[0mresult\u001b[0m\u001b[0;34m\u001b[0m\u001b[0;34m\u001b[0m\u001b[0m\n",
      "\u001b[0;32m~/.local/lib/python3.8/site-packages/pandas/plotting/_matplotlib/core.py\u001b[0m in \u001b[0;36mgenerate\u001b[0;34m(self)\u001b[0m\n\u001b[1;32m    259\u001b[0m     \u001b[0;32mdef\u001b[0m \u001b[0mgenerate\u001b[0m\u001b[0;34m(\u001b[0m\u001b[0mself\u001b[0m\u001b[0;34m)\u001b[0m\u001b[0;34m:\u001b[0m\u001b[0;34m\u001b[0m\u001b[0;34m\u001b[0m\u001b[0m\n\u001b[1;32m    260\u001b[0m         \u001b[0mself\u001b[0m\u001b[0;34m.\u001b[0m\u001b[0m_args_adjust\u001b[0m\u001b[0;34m(\u001b[0m\u001b[0;34m)\u001b[0m\u001b[0;34m\u001b[0m\u001b[0;34m\u001b[0m\u001b[0m\n\u001b[0;32m--> 261\u001b[0;31m         \u001b[0mself\u001b[0m\u001b[0;34m.\u001b[0m\u001b[0m_compute_plot_data\u001b[0m\u001b[0;34m(\u001b[0m\u001b[0;34m)\u001b[0m\u001b[0;34m\u001b[0m\u001b[0;34m\u001b[0m\u001b[0m\n\u001b[0m\u001b[1;32m    262\u001b[0m         \u001b[0mself\u001b[0m\u001b[0;34m.\u001b[0m\u001b[0m_setup_subplots\u001b[0m\u001b[0;34m(\u001b[0m\u001b[0;34m)\u001b[0m\u001b[0;34m\u001b[0m\u001b[0;34m\u001b[0m\u001b[0m\n\u001b[1;32m    263\u001b[0m         \u001b[0mself\u001b[0m\u001b[0;34m.\u001b[0m\u001b[0m_make_plot\u001b[0m\u001b[0;34m(\u001b[0m\u001b[0;34m)\u001b[0m\u001b[0;34m\u001b[0m\u001b[0;34m\u001b[0m\u001b[0m\n",
      "\u001b[0;32m~/.local/lib/python3.8/site-packages/pandas/plotting/_matplotlib/core.py\u001b[0m in \u001b[0;36m_compute_plot_data\u001b[0;34m(self)\u001b[0m\n\u001b[1;32m    408\u001b[0m         \u001b[0;31m# no non-numeric frames or series allowed\u001b[0m\u001b[0;34m\u001b[0m\u001b[0;34m\u001b[0m\u001b[0;34m\u001b[0m\u001b[0m\n\u001b[1;32m    409\u001b[0m         \u001b[0;32mif\u001b[0m \u001b[0mis_empty\u001b[0m\u001b[0;34m:\u001b[0m\u001b[0;34m\u001b[0m\u001b[0;34m\u001b[0m\u001b[0m\n\u001b[0;32m--> 410\u001b[0;31m             \u001b[0;32mraise\u001b[0m \u001b[0mTypeError\u001b[0m\u001b[0;34m(\u001b[0m\u001b[0;34m\"no numeric data to plot\"\u001b[0m\u001b[0;34m)\u001b[0m\u001b[0;34m\u001b[0m\u001b[0;34m\u001b[0m\u001b[0m\n\u001b[0m\u001b[1;32m    411\u001b[0m \u001b[0;34m\u001b[0m\u001b[0m\n\u001b[1;32m    412\u001b[0m         \u001b[0;31m# GH25587: cast ExtensionArray of pandas (IntegerArray, etc.) to\u001b[0m\u001b[0;34m\u001b[0m\u001b[0;34m\u001b[0m\u001b[0;34m\u001b[0m\u001b[0m\n",
      "\u001b[0;31mTypeError\u001b[0m: no numeric data to plot"
     ]
    }
   ],
   "source": [
    "plot_series_lowess(polClean, 'C1')\n",
    "\n",
    "decorate(xlabel='Year',\n",
    "         ylabel='Fraction saying yes',\n",
    "         xlim=[1948, 2016],\n",
    "         title='Would most people try to be fair?')"
   ]
  },
  {
   "cell_type": "code",
   "execution_count": 103,
   "metadata": {},
   "outputs": [
    {
     "ename": "ValueError",
     "evalue": "The truth value of a Series is ambiguous. Use a.empty, a.bool(), a.item(), a.any() or a.all().",
     "output_type": "error",
     "traceback": [
      "\u001b[0;31m---------------------------------------------------------------------------\u001b[0m",
      "\u001b[0;31mValueError\u001b[0m                                Traceback (most recent call last)",
      "\u001b[0;32m<ipython-input-103-9f2e21bf7ed8>\u001b[0m in \u001b[0;36m<module>\u001b[0;34m\u001b[0m\n\u001b[0;32m----> 1\u001b[0;31m \u001b[0mtst\u001b[0m \u001b[0;34m=\u001b[0m \u001b[0mfatherPolClean\u001b[0m \u001b[0;32mand\u001b[0m \u001b[0mmotherPolClean\u001b[0m\u001b[0;34m\u001b[0m\u001b[0;34m\u001b[0m\u001b[0m\n\u001b[0m",
      "\u001b[0;32m~/.local/lib/python3.8/site-packages/pandas/core/generic.py\u001b[0m in \u001b[0;36m__nonzero__\u001b[0;34m(self)\u001b[0m\n\u001b[1;32m   1476\u001b[0m \u001b[0;34m\u001b[0m\u001b[0m\n\u001b[1;32m   1477\u001b[0m     \u001b[0;32mdef\u001b[0m \u001b[0m__nonzero__\u001b[0m\u001b[0;34m(\u001b[0m\u001b[0mself\u001b[0m\u001b[0;34m)\u001b[0m\u001b[0;34m:\u001b[0m\u001b[0;34m\u001b[0m\u001b[0;34m\u001b[0m\u001b[0m\n\u001b[0;32m-> 1478\u001b[0;31m         raise ValueError(\n\u001b[0m\u001b[1;32m   1479\u001b[0m             \u001b[0;34mf\"The truth value of a {type(self).__name__} is ambiguous. \"\u001b[0m\u001b[0;34m\u001b[0m\u001b[0;34m\u001b[0m\u001b[0m\n\u001b[1;32m   1480\u001b[0m             \u001b[0;34m\"Use a.empty, a.bool(), a.item(), a.any() or a.all().\"\u001b[0m\u001b[0;34m\u001b[0m\u001b[0;34m\u001b[0m\u001b[0m\n",
      "\u001b[0;31mValueError\u001b[0m: The truth value of a Series is ambiguous. Use a.empty, a.bool(), a.item(), a.any() or a.all()."
     ]
    }
   ],
   "source": [
    "tst = fatherPolClean and motherPolClean"
   ]
  },
  {
   "cell_type": "code",
   "execution_count": null,
   "metadata": {},
   "outputs": [],
   "source": []
  },
  {
   "cell_type": "markdown",
   "metadata": {},
   "source": [
    "First focus on finding the correlation between parent political party and political party of the child.\n",
    "Need variables for:\n",
    "1. Father's political party\n",
    "- When you were growing up did your father think of himself mostly as a Democrat, as a Republican, or what? - VCF0306 (1. Democrat, 2. Indepedent, Republican, 4. Other, never voted, din't get into politics, DK (1988), 9. DK)\n",
    "2. Mother's political party\n",
    "- When you were growing up did your mother think of himself mostly as a Democrat, as a Republican, or what? - VCF0306 (1. Democrat, 2. Indepedent, Republican, 4. Other, never voted, din't get into politics, DK, 9. DK)\n",
    "VCF0307\n",
    "3. Political affiliation\n",
    "- Major party thermometer: VCF0291 (2. Most Republican, 50. Neutral, 99. Most Democratic)\n",
    "- Genereally speaking, do you usually think of yourself as Republican, a Democrat, an Independent, or what? Do you think of yourself as closer to the Republican or Demucratic party? VCF0301 (1. Strong Democrat, 2. Weak Democrat, 3. Independent - Democrat, 4. Independent -  Independent, 5. Independent - Republican, 6. Weak Republican, 7. Strong Republican, 0. NA)\n",
    "4. Respondent gender - VCF0104 (1 - male, 2 -female, 3 - other, 0 - NA, INAP - question not used), Weight: VCF0009x/VCF0009y/VCF0009z"
   ]
  },
  {
   "cell_type": "code",
   "execution_count": 69,
   "metadata": {},
   "outputs": [],
   "source": [
    "\n",
    "motherPol = df['VCF0307']\n"
   ]
  },
  {
   "cell_type": "code",
   "execution_count": 71,
   "metadata": {},
   "outputs": [],
   "source": [
    "pol = df['VCF0301']\n"
   ]
  },
  {
   "cell_type": "markdown",
   "metadata": {},
   "source": [
    "If both parents were democrat, what is child? If both parenths were republican, what is child?\n",
    "\n",
    "Need to verify data\n",
    "\n",
    "Clean notes"
   ]
  },
  {
   "cell_type": "markdown",
   "metadata": {},
   "source": [
    "Questions:\n",
    "* Should I be doing any sort of weighting?"
   ]
  },
  {
   "cell_type": "code",
   "execution_count": null,
   "metadata": {},
   "outputs": [],
   "source": []
  },
  {
   "cell_type": "code",
   "execution_count": null,
   "metadata": {},
   "outputs": [],
   "source": []
  },
  {
   "cell_type": "markdown",
   "metadata": {},
   "source": [
    "1. Father's Political Interest\n",
    "- \"Do you remember when you were growing up whether your father was very much interested in politics, somewhat interested, or didn't he pay much attention to it?\" (1. Didn't pay much attention, 2. Somewhat interested, 3. Very much interested / 9. DK, 0. NA, INAP no question not worn)\n",
    "- VCF0308\n",
    "2. Mother's Political Interest\n",
    "- \"Now how about your mother? When you were growing up was she very much interested in politics, somewhat interested, or didn't he pay much attention to it?\" (1. Didn't pay much attention, 2. Somewhat interested, 3. Very much interested / 9. DK, 0. NA, INAP no question not worn)\n",
    "- VCF0309\n",
    "3. Your Political Interest\n",
    "- \"Some people don't pay much attention to political campaigns. How about you, would you say that you have been/were very much interested, somewhat interested, or not much interested in political campaigns this year?\" (1. Didn't pay much attention, 2. Somewhat interested, 3. Very much interested / 9. DK, 0. NA, INAP no question not worn)\n",
    "- VCF0310 \n"
   ]
  },
  {
   "cell_type": "code",
   "execution_count": null,
   "metadata": {},
   "outputs": [],
   "source": []
  },
  {
   "cell_type": "code",
   "execution_count": null,
   "metadata": {},
   "outputs": [],
   "source": []
  },
  {
   "cell_type": "code",
   "execution_count": null,
   "metadata": {},
   "outputs": [],
   "source": []
  },
  {
   "cell_type": "code",
   "execution_count": null,
   "metadata": {},
   "outputs": [],
   "source": []
  },
  {
   "cell_type": "code",
   "execution_count": null,
   "metadata": {},
   "outputs": [],
   "source": []
  },
  {
   "cell_type": "code",
   "execution_count": null,
   "metadata": {},
   "outputs": [],
   "source": []
  },
  {
   "cell_type": "markdown",
   "metadata": {},
   "source": [
    "Feeling Thermeter Political Parties:\n",
    "\n",
    "Democrats:\n",
    "* 00-96 Degrees as coded\n",
    "* 97-1000 Degrees\n",
    "* 98 - DK (exc. 1964-1968: see VCF0201 note)\n",
    "* 99 - NA (1972)\n",
    "* INAP - question not used\n",
    "\n",
    "Weight: VCF0009x/VCF0009y/VCF0009z\n",
    "\n",
    "pg. 90\n",
    "\n",
    "Republicans:"
   ]
  },
  {
   "cell_type": "code",
   "execution_count": 72,
   "metadata": {},
   "outputs": [
    {
     "ename": "SyntaxError",
     "evalue": "invalid syntax (<ipython-input-72-ffd792c541a1>, line 2)",
     "output_type": "error",
     "traceback": [
      "\u001b[0;36m  File \u001b[0;32m\"<ipython-input-72-ffd792c541a1>\"\u001b[0;36m, line \u001b[0;32m2\u001b[0m\n\u001b[0;31m    *\u001b[0m\n\u001b[0m      ^\u001b[0m\n\u001b[0;31mSyntaxError\u001b[0m\u001b[0;31m:\u001b[0m invalid syntax\n"
     ]
    }
   ],
   "source": [
    "## Goals\n",
    "* \n",
    "\n",
    "## Topics to explore: \n",
    "* How likely are people to stick with their parents' political alignment? \n",
    "* If one of your parents is a democrat, and the other is a republican, does that make you more likely to be apolitical, a centrist, or pick one or the other? If you are going to pick one or the other, which one is more likely to be picked? What trends are there if any? \n",
    "* Does more politically active parents lead to more politically active children?\n",
    "* How likely are you to have political views that align with your parents political party?\n",
    "* Is there a correlation between socio-economic class and political involvement?\n",
    "\n",
    "## Variables:\n",
    "* “Feeling thermometer” variables (e.g. policemen, political parties, people on welfare, feminists, people seeking to protect the environment”\n",
    "* “Women’s equal role” - Should women have equal role in the household as the man (7-pt scale)?\n",
    "* “During the past 12 months, have you worked with other people to deal with some issues facing your community?”\n",
    "* “Did you give any money to a political party this year?”\n",
    "* “Some people don’t pay much attention to political campaigns…”\n",
    "* “Do you remember when you were growing up whether your  father was very much interested in politics, somewhat interested , or he didn’t pay much attention?”\n",
    "* Same as above but for mothers\n",
    "* “Did your father participate in elections?”\n",
    "* Same as above but for mothers\n",
    "* Did you give any money to a political party this year?\n",
    "\n",
    "## To Do \n",
    "* Download data\n",
    "* [Load data](https://pandas.pydata.org/pandas-docs/stable/getting_started/comparison/comparison_with_stata.html?highlight=dta)\n",
    "* Learn about weighting\n",
    "* Load variables"
   ]
  },
  {
   "cell_type": "code",
   "execution_count": null,
   "metadata": {},
   "outputs": [],
   "source": []
  }
 ],
 "metadata": {
  "kernelspec": {
   "display_name": "Python 3",
   "language": "python",
   "name": "python3"
  },
  "language_info": {
   "codemirror_mode": {
    "name": "ipython",
    "version": 3
   },
   "file_extension": ".py",
   "mimetype": "text/x-python",
   "name": "python",
   "nbconvert_exporter": "python",
   "pygments_lexer": "ipython3",
   "version": "3.8.2"
  }
 },
 "nbformat": 4,
 "nbformat_minor": 4
}
