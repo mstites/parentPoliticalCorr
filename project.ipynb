{
 "cells": [
  {
   "cell_type": "markdown",
   "metadata": {},
   "source": [
    "# Parent Child Political Correlation\n",
    "Studying the correlation between parent's political affiliations and involvements and the political affiliations and involvement of their children."
   ]
  },
  {
   "cell_type": "markdown",
   "metadata": {},
   "source": [
    "Import some packages we will use later:"
   ]
  },
  {
   "cell_type": "code",
   "execution_count": 82,
   "metadata": {},
   "outputs": [],
   "source": [
    "import pandas as pd\n",
    "import numpy as np\n",
    "import os"
   ]
  },
  {
   "cell_type": "markdown",
   "metadata": {},
   "source": [
    "Unpack the tar file if the data file is not already uncompressed on this machine:"
   ]
  },
  {
   "cell_type": "code",
   "execution_count": 5,
   "metadata": {},
   "outputs": [],
   "source": [
    "if not os.path.exists('anes_timeseries_cdf_rawdata.txt'):\n",
    "    !tar -xvf data.tar.bz2"
   ]
  },
  {
   "cell_type": "markdown",
   "metadata": {},
   "source": [
    "Import the data and save as dataframe:"
   ]
  },
  {
   "cell_type": "markdown",
   "metadata": {},
   "source": [
    "## Load & Prepare the Data"
   ]
  },
  {
   "cell_type": "code",
   "execution_count": 57,
   "metadata": {},
   "outputs": [
    {
     "data": {
      "text/html": [
       "<div>\n",
       "<style scoped>\n",
       "    .dataframe tbody tr th:only-of-type {\n",
       "        vertical-align: middle;\n",
       "    }\n",
       "\n",
       "    .dataframe tbody tr th {\n",
       "        vertical-align: top;\n",
       "    }\n",
       "\n",
       "    .dataframe thead th {\n",
       "        text-align: right;\n",
       "    }\n",
       "</style>\n",
       "<table border=\"1\" class=\"dataframe\">\n",
       "  <thead>\n",
       "    <tr style=\"text-align: right;\">\n",
       "      <th></th>\n",
       "      <th>Version</th>\n",
       "      <th>VCF0004</th>\n",
       "      <th>VCF0006</th>\n",
       "      <th>VCF0006a</th>\n",
       "      <th>VCF0009x</th>\n",
       "      <th>VCF0010x</th>\n",
       "      <th>VCF0011x</th>\n",
       "      <th>VCF0009y</th>\n",
       "      <th>VCF0010y</th>\n",
       "      <th>VCF0011y</th>\n",
       "      <th>...</th>\n",
       "      <th>VCF9272</th>\n",
       "      <th>VCF9273</th>\n",
       "      <th>VCF9274</th>\n",
       "      <th>VCF9275</th>\n",
       "      <th>VCF9277</th>\n",
       "      <th>VCF9278</th>\n",
       "      <th>VCF9279</th>\n",
       "      <th>VCF9280</th>\n",
       "      <th>VCF9281</th>\n",
       "      <th>VCF9282</th>\n",
       "    </tr>\n",
       "  </thead>\n",
       "  <tbody>\n",
       "    <tr>\n",
       "      <th>0</th>\n",
       "      <td>ANES_CDF_VERSION:2019-Sep-10</td>\n",
       "      <td>1948</td>\n",
       "      <td>1001</td>\n",
       "      <td>19481001</td>\n",
       "      <td>1.0</td>\n",
       "      <td>1.0</td>\n",
       "      <td>1.0</td>\n",
       "      <td>1.000</td>\n",
       "      <td>1.000</td>\n",
       "      <td>1.000</td>\n",
       "      <td>...</td>\n",
       "      <td></td>\n",
       "      <td></td>\n",
       "      <td></td>\n",
       "      <td></td>\n",
       "      <td></td>\n",
       "      <td></td>\n",
       "      <td></td>\n",
       "      <td></td>\n",
       "      <td></td>\n",
       "      <td></td>\n",
       "    </tr>\n",
       "    <tr>\n",
       "      <th>1</th>\n",
       "      <td>ANES_CDF_VERSION:2019-Sep-10</td>\n",
       "      <td>1948</td>\n",
       "      <td>1002</td>\n",
       "      <td>19481002</td>\n",
       "      <td>1.0</td>\n",
       "      <td>1.0</td>\n",
       "      <td>1.0</td>\n",
       "      <td>1.000</td>\n",
       "      <td>1.000</td>\n",
       "      <td>1.000</td>\n",
       "      <td>...</td>\n",
       "      <td></td>\n",
       "      <td></td>\n",
       "      <td></td>\n",
       "      <td></td>\n",
       "      <td></td>\n",
       "      <td></td>\n",
       "      <td></td>\n",
       "      <td></td>\n",
       "      <td></td>\n",
       "      <td></td>\n",
       "    </tr>\n",
       "    <tr>\n",
       "      <th>2</th>\n",
       "      <td>ANES_CDF_VERSION:2019-Sep-10</td>\n",
       "      <td>1948</td>\n",
       "      <td>1003</td>\n",
       "      <td>19481003</td>\n",
       "      <td>1.0</td>\n",
       "      <td>1.0</td>\n",
       "      <td>1.0</td>\n",
       "      <td>1.000</td>\n",
       "      <td>1.000</td>\n",
       "      <td>1.000</td>\n",
       "      <td>...</td>\n",
       "      <td></td>\n",
       "      <td></td>\n",
       "      <td></td>\n",
       "      <td></td>\n",
       "      <td></td>\n",
       "      <td></td>\n",
       "      <td></td>\n",
       "      <td></td>\n",
       "      <td></td>\n",
       "      <td></td>\n",
       "    </tr>\n",
       "    <tr>\n",
       "      <th>3</th>\n",
       "      <td>ANES_CDF_VERSION:2019-Sep-10</td>\n",
       "      <td>1948</td>\n",
       "      <td>1004</td>\n",
       "      <td>19481004</td>\n",
       "      <td>1.0</td>\n",
       "      <td>1.0</td>\n",
       "      <td>1.0</td>\n",
       "      <td>1.000</td>\n",
       "      <td>1.000</td>\n",
       "      <td>1.000</td>\n",
       "      <td>...</td>\n",
       "      <td></td>\n",
       "      <td></td>\n",
       "      <td></td>\n",
       "      <td></td>\n",
       "      <td></td>\n",
       "      <td></td>\n",
       "      <td></td>\n",
       "      <td></td>\n",
       "      <td></td>\n",
       "      <td></td>\n",
       "    </tr>\n",
       "    <tr>\n",
       "      <th>4</th>\n",
       "      <td>ANES_CDF_VERSION:2019-Sep-10</td>\n",
       "      <td>1948</td>\n",
       "      <td>1005</td>\n",
       "      <td>19481005</td>\n",
       "      <td>1.0</td>\n",
       "      <td>1.0</td>\n",
       "      <td>1.0</td>\n",
       "      <td>1.000</td>\n",
       "      <td>1.000</td>\n",
       "      <td>1.000</td>\n",
       "      <td>...</td>\n",
       "      <td></td>\n",
       "      <td></td>\n",
       "      <td></td>\n",
       "      <td></td>\n",
       "      <td></td>\n",
       "      <td></td>\n",
       "      <td></td>\n",
       "      <td></td>\n",
       "      <td></td>\n",
       "      <td></td>\n",
       "    </tr>\n",
       "    <tr>\n",
       "      <th>...</th>\n",
       "      <td>...</td>\n",
       "      <td>...</td>\n",
       "      <td>...</td>\n",
       "      <td>...</td>\n",
       "      <td>...</td>\n",
       "      <td>...</td>\n",
       "      <td>...</td>\n",
       "      <td>...</td>\n",
       "      <td>...</td>\n",
       "      <td>...</td>\n",
       "      <td>...</td>\n",
       "      <td>...</td>\n",
       "      <td>...</td>\n",
       "      <td>...</td>\n",
       "      <td>...</td>\n",
       "      <td>...</td>\n",
       "      <td>...</td>\n",
       "      <td>...</td>\n",
       "      <td>...</td>\n",
       "      <td>...</td>\n",
       "      <td>...</td>\n",
       "    </tr>\n",
       "    <tr>\n",
       "      <th>59939</th>\n",
       "      <td>ANES_CDF_VERSION:2019-Sep-10</td>\n",
       "      <td>2016</td>\n",
       "      <td>5086</td>\n",
       "      <td>20165086</td>\n",
       "      <td>0.0</td>\n",
       "      <td>0.0</td>\n",
       "      <td>0.0</td>\n",
       "      <td>0.818</td>\n",
       "      <td>0.818</td>\n",
       "      <td>0.818</td>\n",
       "      <td>...</td>\n",
       "      <td>2</td>\n",
       "      <td>1</td>\n",
       "      <td></td>\n",
       "      <td>3</td>\n",
       "      <td>1</td>\n",
       "      <td>2</td>\n",
       "      <td>1</td>\n",
       "      <td>1</td>\n",
       "      <td>1</td>\n",
       "      <td>1</td>\n",
       "    </tr>\n",
       "    <tr>\n",
       "      <th>59940</th>\n",
       "      <td>ANES_CDF_VERSION:2019-Sep-10</td>\n",
       "      <td>2016</td>\n",
       "      <td>5087</td>\n",
       "      <td>20165087</td>\n",
       "      <td>0.0</td>\n",
       "      <td>0.0</td>\n",
       "      <td>0.0</td>\n",
       "      <td>1.280</td>\n",
       "      <td>1.280</td>\n",
       "      <td>1.280</td>\n",
       "      <td>...</td>\n",
       "      <td>3</td>\n",
       "      <td>6</td>\n",
       "      <td></td>\n",
       "      <td>2</td>\n",
       "      <td>-9</td>\n",
       "      <td>-9</td>\n",
       "      <td>1</td>\n",
       "      <td>2</td>\n",
       "      <td>1</td>\n",
       "      <td>1</td>\n",
       "    </tr>\n",
       "    <tr>\n",
       "      <th>59941</th>\n",
       "      <td>ANES_CDF_VERSION:2019-Sep-10</td>\n",
       "      <td>2016</td>\n",
       "      <td>5088</td>\n",
       "      <td>20165088</td>\n",
       "      <td>0.0</td>\n",
       "      <td>0.0</td>\n",
       "      <td>0.0</td>\n",
       "      <td>3.788</td>\n",
       "      <td>3.788</td>\n",
       "      <td>3.788</td>\n",
       "      <td>...</td>\n",
       "      <td>1</td>\n",
       "      <td>5</td>\n",
       "      <td></td>\n",
       "      <td>2</td>\n",
       "      <td>-9</td>\n",
       "      <td>-9</td>\n",
       "      <td>1</td>\n",
       "      <td>2</td>\n",
       "      <td>1</td>\n",
       "      <td>1</td>\n",
       "    </tr>\n",
       "    <tr>\n",
       "      <th>59942</th>\n",
       "      <td>ANES_CDF_VERSION:2019-Sep-10</td>\n",
       "      <td>2016</td>\n",
       "      <td>5089</td>\n",
       "      <td>20165089</td>\n",
       "      <td>0.0</td>\n",
       "      <td>0.0</td>\n",
       "      <td>0.0</td>\n",
       "      <td>1.162</td>\n",
       "      <td>1.162</td>\n",
       "      <td>1.162</td>\n",
       "      <td>...</td>\n",
       "      <td>2</td>\n",
       "      <td>2</td>\n",
       "      <td></td>\n",
       "      <td>3</td>\n",
       "      <td>2</td>\n",
       "      <td>2</td>\n",
       "      <td>1</td>\n",
       "      <td>2</td>\n",
       "      <td>1</td>\n",
       "      <td>1</td>\n",
       "    </tr>\n",
       "    <tr>\n",
       "      <th>59943</th>\n",
       "      <td>ANES_CDF_VERSION:2019-Sep-10</td>\n",
       "      <td>2016</td>\n",
       "      <td>5090</td>\n",
       "      <td>20165090</td>\n",
       "      <td>0.0</td>\n",
       "      <td>0.0</td>\n",
       "      <td>0.0</td>\n",
       "      <td>1.424</td>\n",
       "      <td>1.424</td>\n",
       "      <td>1.424</td>\n",
       "      <td>...</td>\n",
       "      <td>-9</td>\n",
       "      <td>-9</td>\n",
       "      <td></td>\n",
       "      <td>-9</td>\n",
       "      <td>1</td>\n",
       "      <td>2</td>\n",
       "      <td>1</td>\n",
       "      <td>2</td>\n",
       "      <td>1</td>\n",
       "      <td>1</td>\n",
       "    </tr>\n",
       "  </tbody>\n",
       "</table>\n",
       "<p>59944 rows × 1029 columns</p>\n",
       "</div>"
      ],
      "text/plain": [
       "                            Version  VCF0004  VCF0006  VCF0006a  VCF0009x  \\\n",
       "0      ANES_CDF_VERSION:2019-Sep-10     1948     1001  19481001       1.0   \n",
       "1      ANES_CDF_VERSION:2019-Sep-10     1948     1002  19481002       1.0   \n",
       "2      ANES_CDF_VERSION:2019-Sep-10     1948     1003  19481003       1.0   \n",
       "3      ANES_CDF_VERSION:2019-Sep-10     1948     1004  19481004       1.0   \n",
       "4      ANES_CDF_VERSION:2019-Sep-10     1948     1005  19481005       1.0   \n",
       "...                             ...      ...      ...       ...       ...   \n",
       "59939  ANES_CDF_VERSION:2019-Sep-10     2016     5086  20165086       0.0   \n",
       "59940  ANES_CDF_VERSION:2019-Sep-10     2016     5087  20165087       0.0   \n",
       "59941  ANES_CDF_VERSION:2019-Sep-10     2016     5088  20165088       0.0   \n",
       "59942  ANES_CDF_VERSION:2019-Sep-10     2016     5089  20165089       0.0   \n",
       "59943  ANES_CDF_VERSION:2019-Sep-10     2016     5090  20165090       0.0   \n",
       "\n",
       "       VCF0010x  VCF0011x  VCF0009y  VCF0010y  VCF0011y  ...  VCF9272  \\\n",
       "0           1.0       1.0     1.000     1.000     1.000  ...            \n",
       "1           1.0       1.0     1.000     1.000     1.000  ...            \n",
       "2           1.0       1.0     1.000     1.000     1.000  ...            \n",
       "3           1.0       1.0     1.000     1.000     1.000  ...            \n",
       "4           1.0       1.0     1.000     1.000     1.000  ...            \n",
       "...         ...       ...       ...       ...       ...  ...      ...   \n",
       "59939       0.0       0.0     0.818     0.818     0.818  ...        2   \n",
       "59940       0.0       0.0     1.280     1.280     1.280  ...        3   \n",
       "59941       0.0       0.0     3.788     3.788     3.788  ...        1   \n",
       "59942       0.0       0.0     1.162     1.162     1.162  ...        2   \n",
       "59943       0.0       0.0     1.424     1.424     1.424  ...       -9   \n",
       "\n",
       "       VCF9273  VCF9274  VCF9275  VCF9277  VCF9278  VCF9279  VCF9280  VCF9281  \\\n",
       "0                                                                               \n",
       "1                                                                               \n",
       "2                                                                               \n",
       "3                                                                               \n",
       "4                                                                               \n",
       "...        ...      ...      ...      ...      ...      ...      ...      ...   \n",
       "59939        1                 3        1        2        1        1        1   \n",
       "59940        6                 2       -9       -9        1        2        1   \n",
       "59941        5                 2       -9       -9        1        2        1   \n",
       "59942        2                 3        2        2        1        2        1   \n",
       "59943       -9                -9        1        2        1        2        1   \n",
       "\n",
       "       VCF9282  \n",
       "0               \n",
       "1               \n",
       "2               \n",
       "3               \n",
       "4               \n",
       "...        ...  \n",
       "59939        1  \n",
       "59940        1  \n",
       "59941        1  \n",
       "59942        1  \n",
       "59943        1  \n",
       "\n",
       "[59944 rows x 1029 columns]"
      ]
     },
     "execution_count": 57,
     "metadata": {},
     "output_type": "execute_result"
    }
   ],
   "source": [
    "df = pd.read_csv('anes_timeseries_cdf_rawdata.txt', delimiter=',', low_memory=False, na_values=' ')\n",
    "df"
   ]
  },
  {
   "cell_type": "markdown",
   "metadata": {},
   "source": [
    "Load the variable for father's political affiliation:"
   ]
  },
  {
   "cell_type": "code",
   "execution_count": 74,
   "metadata": {},
   "outputs": [],
   "source": [
    "fatherPol = df['VCF0306']"
   ]
  },
  {
   "cell_type": "markdown",
   "metadata": {},
   "source": [
    "And let's verify that the data loaded matches the expected:"
   ]
  },
  {
   "cell_type": "code",
   "execution_count": 78,
   "metadata": {},
   "outputs": [
    {
     "data": {
      "text/plain": [
       "0.0    1446\n",
       "1.0    9747\n",
       "2.0    1355\n",
       "3.0    5351\n",
       "4.0    1203\n",
       "9.0    2278\n",
       "Name: VCF0306, dtype: int64"
      ]
     },
     "execution_count": 78,
     "metadata": {},
     "output_type": "execute_result"
    }
   ],
   "source": [
    "def values(series):\n",
    "    \"\"\"Count the values and sort.\n",
    "    \n",
    "    series: pd.Series\n",
    "    \n",
    "    returns: series mapping from values to frequencies\n",
    "    \"\"\"\n",
    "    return series.value_counts().sort_index()\n",
    "values(fatherPol)"
   ]
  },
  {
   "cell_type": "markdown",
   "metadata": {},
   "source": [
    "Now do the same for the mother's political affiliation:"
   ]
  },
  {
   "cell_type": "code",
   "execution_count": 79,
   "metadata": {},
   "outputs": [
    {
     "data": {
      "text/plain": [
       "0.0    1363\n",
       "1.0    9337\n",
       "2.0    1416\n",
       "3.0    5061\n",
       "4.0    1702\n",
       "9.0    2501\n",
       "Name: VCF0307, dtype: int64"
      ]
     },
     "execution_count": 79,
     "metadata": {},
     "output_type": "execute_result"
    }
   ],
   "source": [
    "motherPol = df['VCF0307']\n",
    "values(motherPol)"
   ]
  },
  {
   "cell_type": "markdown",
   "metadata": {},
   "source": [
    "And clean the data. The values 0, 4, and 9 represent \"NA\", \"Other\" and  \"Don't know\" respectively."
   ]
  },
  {
   "cell_type": "code",
   "execution_count": 86,
   "metadata": {},
   "outputs": [
    {
     "data": {
      "text/plain": [
       "1.0    9747\n",
       "2.0    1355\n",
       "3.0    5351\n",
       "Name: VCF0306, dtype: int64"
      ]
     },
     "execution_count": 86,
     "metadata": {},
     "output_type": "execute_result"
    }
   ],
   "source": [
    "fatherPolClean = fatherPol.replace([0, 4, 9], np.nan)\n",
    "values(fatherPolClean)"
   ]
  },
  {
   "cell_type": "code",
   "execution_count": 97,
   "metadata": {},
   "outputs": [
    {
     "data": {
      "text/plain": [
       "Democrat       9747\n",
       "Independent    1355\n",
       "Republican     5351\n",
       "Name: VCF0306, dtype: int64"
      ]
     },
     "execution_count": 97,
     "metadata": {},
     "output_type": "execute_result"
    }
   ],
   "source": [
    "polParty = {1:'Democrat', \n",
    "            2:'Independent', \n",
    "            3:'Republican'}\n",
    "fatherPolClean = fatherPolClean.replace(polParty)\n",
    "values(fatherPolClean)"
   ]
  },
  {
   "cell_type": "code",
   "execution_count": 98,
   "metadata": {},
   "outputs": [
    {
     "data": {
      "text/plain": [
       "Democrat       9337\n",
       "Independent    1416\n",
       "Republican     5061\n",
       "Name: VCF0307, dtype: int64"
      ]
     },
     "execution_count": 98,
     "metadata": {},
     "output_type": "execute_result"
    }
   ],
   "source": [
    "motherPolClean = motherPol.replace([0, 4, 9], np.nan)\n",
    "motherPolClean = motherPolClean.replace(polParty)\n",
    "values(motherPolClean)"
   ]
  },
  {
   "cell_type": "code",
   "execution_count": 99,
   "metadata": {},
   "outputs": [
    {
     "data": {
      "text/plain": [
       "0.0     1015\n",
       "1.0    11695\n",
       "2.0    11820\n",
       "3.0     6886\n",
       "4.0     6988\n",
       "5.0     5882\n",
       "6.0     7921\n",
       "7.0     7075\n",
       "Name: VCF0301, dtype: int64"
      ]
     },
     "execution_count": 99,
     "metadata": {},
     "output_type": "execute_result"
    }
   ],
   "source": [
    "pol = df['VCF0301']\n",
    "values(pol)"
   ]
  },
  {
   "cell_type": "code",
   "execution_count": 100,
   "metadata": {},
   "outputs": [],
   "source": [
    "polClean = pol.replace([0], np.nan)"
   ]
  },
  {
   "cell_type": "code",
   "execution_count": 101,
   "metadata": {},
   "outputs": [],
   "source": [
    "d_polviews = {1:'Democrat', \n",
    "              2:'Democrat', \n",
    "              3:'Democrat', \n",
    "              4:'Independent', \n",
    "              5:'Republican', \n",
    "              6:'Republican', \n",
    "              7:'Republican'}"
   ]
  },
  {
   "cell_type": "code",
   "execution_count": 102,
   "metadata": {},
   "outputs": [
    {
     "data": {
      "text/plain": [
       "Democrat       30401\n",
       "Independent     6988\n",
       "Republican     20878\n",
       "Name: VCF0301, dtype: int64"
      ]
     },
     "execution_count": 102,
     "metadata": {},
     "output_type": "execute_result"
    }
   ],
   "source": [
    "polClean = polClean.replace(d_polviews)\n",
    "values(polClean)"
   ]
  },
  {
   "cell_type": "markdown",
   "metadata": {},
   "source": [
    "## Analysis\n",
    "* Test result of democrat mother and father\n",
    "* Test result of republican mother and father\n",
    "* Test result of indepenent mother and father\n",
    "* Test result of mixed, for verification (do this last)"
   ]
  },
  {
   "cell_type": "code",
   "execution_count": 103,
   "metadata": {},
   "outputs": [
    {
     "ename": "ValueError",
     "evalue": "The truth value of a Series is ambiguous. Use a.empty, a.bool(), a.item(), a.any() or a.all().",
     "output_type": "error",
     "traceback": [
      "\u001b[0;31m---------------------------------------------------------------------------\u001b[0m",
      "\u001b[0;31mValueError\u001b[0m                                Traceback (most recent call last)",
      "\u001b[0;32m<ipython-input-103-9f2e21bf7ed8>\u001b[0m in \u001b[0;36m<module>\u001b[0;34m\u001b[0m\n\u001b[0;32m----> 1\u001b[0;31m \u001b[0mtst\u001b[0m \u001b[0;34m=\u001b[0m \u001b[0mfatherPolClean\u001b[0m \u001b[0;32mand\u001b[0m \u001b[0mmotherPolClean\u001b[0m\u001b[0;34m\u001b[0m\u001b[0;34m\u001b[0m\u001b[0m\n\u001b[0m",
      "\u001b[0;32m~/.local/lib/python3.8/site-packages/pandas/core/generic.py\u001b[0m in \u001b[0;36m__nonzero__\u001b[0;34m(self)\u001b[0m\n\u001b[1;32m   1476\u001b[0m \u001b[0;34m\u001b[0m\u001b[0m\n\u001b[1;32m   1477\u001b[0m     \u001b[0;32mdef\u001b[0m \u001b[0m__nonzero__\u001b[0m\u001b[0;34m(\u001b[0m\u001b[0mself\u001b[0m\u001b[0;34m)\u001b[0m\u001b[0;34m:\u001b[0m\u001b[0;34m\u001b[0m\u001b[0;34m\u001b[0m\u001b[0m\n\u001b[0;32m-> 1478\u001b[0;31m         raise ValueError(\n\u001b[0m\u001b[1;32m   1479\u001b[0m             \u001b[0;34mf\"The truth value of a {type(self).__name__} is ambiguous. \"\u001b[0m\u001b[0;34m\u001b[0m\u001b[0;34m\u001b[0m\u001b[0m\n\u001b[1;32m   1480\u001b[0m             \u001b[0;34m\"Use a.empty, a.bool(), a.item(), a.any() or a.all().\"\u001b[0m\u001b[0;34m\u001b[0m\u001b[0;34m\u001b[0m\u001b[0m\n",
      "\u001b[0;31mValueError\u001b[0m: The truth value of a Series is ambiguous. Use a.empty, a.bool(), a.item(), a.any() or a.all()."
     ]
    }
   ],
   "source": [
    "tst = fatherPolClean and motherPolClean"
   ]
  },
  {
   "cell_type": "code",
   "execution_count": null,
   "metadata": {},
   "outputs": [],
   "source": []
  },
  {
   "cell_type": "markdown",
   "metadata": {},
   "source": [
    "First focus on finding the correlation between parent political party and political party of the child.\n",
    "Need variables for:\n",
    "1. Father's political party\n",
    "- When you were growing up did your father think of himself mostly as a Democrat, as a Republican, or what? - VCF0306 (1. Democrat, 2. Indepedent, Republican, 4. Other, never voted, din't get into politics, DK (1988), 9. DK)\n",
    "2. Mother's political party\n",
    "- When you were growing up did your mother think of himself mostly as a Democrat, as a Republican, or what? - VCF0306 (1. Democrat, 2. Indepedent, Republican, 4. Other, never voted, din't get into politics, DK, 9. DK)\n",
    "VCF0307\n",
    "3. Political affiliation\n",
    "- Major party thermometer: VCF0291 (2. Most Republican, 50. Neutral, 99. Most Democratic)\n",
    "- Genereally speaking, do you usually think of yourself as Republican, a Democrat, an Independent, or what? Do you think of yourself as closer to the Republican or Demucratic party? VCF0301 (1. Strong Democrat, 2. Weak Democrat, 3. Independent - Democrat, 4. Independent -  Independent, 5. Independent - Republican, 6. Weak Republican, 7. Strong Republican, 0. NA)\n",
    "4. Respondent gender - VCF0104 (1 - male, 2 -female, 3 - other, 0 - NA, INAP - question not used), Weight: VCF0009x/VCF0009y/VCF0009z"
   ]
  },
  {
   "cell_type": "code",
   "execution_count": 69,
   "metadata": {},
   "outputs": [],
   "source": [
    "\n",
    "motherPol = df['VCF0307']\n"
   ]
  },
  {
   "cell_type": "code",
   "execution_count": 71,
   "metadata": {},
   "outputs": [],
   "source": [
    "pol = df['VCF0301']\n"
   ]
  },
  {
   "cell_type": "markdown",
   "metadata": {},
   "source": [
    "If both parents were democrat, what is child? If both parenths were republican, what is child?\n",
    "\n",
    "Need to verify data\n",
    "\n",
    "Clean notes"
   ]
  },
  {
   "cell_type": "markdown",
   "metadata": {},
   "source": [
    "Questions:\n",
    "* Should I be doing any sort of weighting?"
   ]
  },
  {
   "cell_type": "code",
   "execution_count": null,
   "metadata": {},
   "outputs": [],
   "source": []
  },
  {
   "cell_type": "code",
   "execution_count": null,
   "metadata": {},
   "outputs": [],
   "source": []
  },
  {
   "cell_type": "markdown",
   "metadata": {},
   "source": [
    "1. Father's Political Interest\n",
    "- \"Do you remember when you were growing up whether your father was very much interested in politics, somewhat interested, or didn't he pay much attention to it?\" (1. Didn't pay much attention, 2. Somewhat interested, 3. Very much interested / 9. DK, 0. NA, INAP no question not worn)\n",
    "- VCF0308\n",
    "2. Mother's Political Interest\n",
    "- \"Now how about your mother? When you were growing up was she very much interested in politics, somewhat interested, or didn't he pay much attention to it?\" (1. Didn't pay much attention, 2. Somewhat interested, 3. Very much interested / 9. DK, 0. NA, INAP no question not worn)\n",
    "- VCF0309\n",
    "3. Your Political Interest\n",
    "- \"Some people don't pay much attention to political campaigns. How about you, would you say that you have been/were very much interested, somewhat interested, or not much interested in political campaigns this year?\" (1. Didn't pay much attention, 2. Somewhat interested, 3. Very much interested / 9. DK, 0. NA, INAP no question not worn)\n",
    "- VCF0310 \n"
   ]
  },
  {
   "cell_type": "code",
   "execution_count": null,
   "metadata": {},
   "outputs": [],
   "source": []
  },
  {
   "cell_type": "code",
   "execution_count": null,
   "metadata": {},
   "outputs": [],
   "source": []
  },
  {
   "cell_type": "code",
   "execution_count": null,
   "metadata": {},
   "outputs": [],
   "source": []
  },
  {
   "cell_type": "code",
   "execution_count": null,
   "metadata": {},
   "outputs": [],
   "source": []
  },
  {
   "cell_type": "code",
   "execution_count": null,
   "metadata": {},
   "outputs": [],
   "source": []
  },
  {
   "cell_type": "code",
   "execution_count": null,
   "metadata": {},
   "outputs": [],
   "source": []
  },
  {
   "cell_type": "markdown",
   "metadata": {},
   "source": [
    "Feeling Thermeter Political Parties:\n",
    "\n",
    "Democrats:\n",
    "* 00-96 Degrees as coded\n",
    "* 97-1000 Degrees\n",
    "* 98 - DK (exc. 1964-1968: see VCF0201 note)\n",
    "* 99 - NA (1972)\n",
    "* INAP - question not used\n",
    "\n",
    "Weight: VCF0009x/VCF0009y/VCF0009z\n",
    "\n",
    "pg. 90\n",
    "\n",
    "Republicans:"
   ]
  },
  {
   "cell_type": "code",
   "execution_count": 72,
   "metadata": {},
   "outputs": [
    {
     "ename": "SyntaxError",
     "evalue": "invalid syntax (<ipython-input-72-ffd792c541a1>, line 2)",
     "output_type": "error",
     "traceback": [
      "\u001b[0;36m  File \u001b[0;32m\"<ipython-input-72-ffd792c541a1>\"\u001b[0;36m, line \u001b[0;32m2\u001b[0m\n\u001b[0;31m    *\u001b[0m\n\u001b[0m      ^\u001b[0m\n\u001b[0;31mSyntaxError\u001b[0m\u001b[0;31m:\u001b[0m invalid syntax\n"
     ]
    }
   ],
   "source": [
    "## Goals\n",
    "* \n",
    "\n",
    "## Topics to explore: \n",
    "* How likely are people to stick with their parents' political alignment? \n",
    "* If one of your parents is a democrat, and the other is a republican, does that make you more likely to be apolitical, a centrist, or pick one or the other? If you are going to pick one or the other, which one is more likely to be picked? What trends are there if any? \n",
    "* Does more politically active parents lead to more politically active children?\n",
    "* How likely are you to have political views that align with your parents political party?\n",
    "* Is there a correlation between socio-economic class and political involvement?\n",
    "\n",
    "## Variables:\n",
    "* “Feeling thermometer” variables (e.g. policemen, political parties, people on welfare, feminists, people seeking to protect the environment”\n",
    "* “Women’s equal role” - Should women have equal role in the household as the man (7-pt scale)?\n",
    "* “During the past 12 months, have you worked with other people to deal with some issues facing your community?”\n",
    "* “Did you give any money to a political party this year?”\n",
    "* “Some people don’t pay much attention to political campaigns…”\n",
    "* “Do you remember when you were growing up whether your  father was very much interested in politics, somewhat interested , or he didn’t pay much attention?”\n",
    "* Same as above but for mothers\n",
    "* “Did your father participate in elections?”\n",
    "* Same as above but for mothers\n",
    "* Did you give any money to a political party this year?\n",
    "\n",
    "## To Do \n",
    "* Download data\n",
    "* [Load data](https://pandas.pydata.org/pandas-docs/stable/getting_started/comparison/comparison_with_stata.html?highlight=dta)\n",
    "* Learn about weighting\n",
    "* Load variables"
   ]
  },
  {
   "cell_type": "code",
   "execution_count": null,
   "metadata": {},
   "outputs": [],
   "source": []
  }
 ],
 "metadata": {
  "kernelspec": {
   "display_name": "Python 3",
   "language": "python",
   "name": "python3"
  },
  "language_info": {
   "codemirror_mode": {
    "name": "ipython",
    "version": 3
   },
   "file_extension": ".py",
   "mimetype": "text/x-python",
   "name": "python",
   "nbconvert_exporter": "python",
   "pygments_lexer": "ipython3",
   "version": "3.8.2"
  }
 },
 "nbformat": 4,
 "nbformat_minor": 4
}
