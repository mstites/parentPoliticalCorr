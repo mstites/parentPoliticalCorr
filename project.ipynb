{
 "cells": [
  {
   "cell_type": "markdown",
   "metadata": {},
   "source": [
    "# Parent Child Political Correlation\n",
    "Studying the correlation between parent's political affiliations and involvements and the political affiliations and involvement of their children."
   ]
  },
  {
   "cell_type": "markdown",
   "metadata": {},
   "source": [
    "Import some packages we will use later:"
   ]
  },
  {
   "cell_type": "code",
   "execution_count": 1,
   "metadata": {},
   "outputs": [],
   "source": [
    "import pandas as pd\n",
    "import numpy as np\n",
    "import os\n",
    "from empiricaldist import Pmf\n",
    "import matplotlib.pyplot as plt\n",
    "from matplotlib.pyplot import figure"
   ]
  },
  {
   "cell_type": "markdown",
   "metadata": {},
   "source": [
    "Unpack the tar file if the data file is not already uncompressed on this machine:"
   ]
  },
  {
   "cell_type": "code",
   "execution_count": 2,
   "metadata": {},
   "outputs": [],
   "source": [
    "if not os.path.exists('anes_timeseries_cdf_rawdata.txt'):\n",
    "    !tar -xvf data.tar.bz2"
   ]
  },
  {
   "cell_type": "markdown",
   "metadata": {},
   "source": [
    "Import the data and save as dataframe:"
   ]
  },
  {
   "cell_type": "code",
   "execution_count": 3,
   "metadata": {},
   "outputs": [],
   "source": [
    "def values(series):\n",
    "    \"\"\"Count the values and sort.\n",
    "    \n",
    "    series: pd.Series\n",
    "    \n",
    "    returns: series mapping from values to frequencies\n",
    "    \"\"\"\n",
    "    return series.value_counts().sort_index()"
   ]
  },
  {
   "cell_type": "markdown",
   "metadata": {},
   "source": [
    "## Load & Prepare the Data"
   ]
  },
  {
   "cell_type": "code",
   "execution_count": 4,
   "metadata": {},
   "outputs": [
    {
     "data": {
      "text/html": [
       "<div>\n",
       "<style scoped>\n",
       "    .dataframe tbody tr th:only-of-type {\n",
       "        vertical-align: middle;\n",
       "    }\n",
       "\n",
       "    .dataframe tbody tr th {\n",
       "        vertical-align: top;\n",
       "    }\n",
       "\n",
       "    .dataframe thead th {\n",
       "        text-align: right;\n",
       "    }\n",
       "</style>\n",
       "<table border=\"1\" class=\"dataframe\">\n",
       "  <thead>\n",
       "    <tr style=\"text-align: right;\">\n",
       "      <th></th>\n",
       "      <th>Version</th>\n",
       "      <th>VCF0004</th>\n",
       "      <th>VCF0006</th>\n",
       "      <th>VCF0006a</th>\n",
       "      <th>VCF0009x</th>\n",
       "      <th>VCF0010x</th>\n",
       "      <th>VCF0011x</th>\n",
       "      <th>VCF0009y</th>\n",
       "      <th>VCF0010y</th>\n",
       "      <th>VCF0011y</th>\n",
       "      <th>...</th>\n",
       "      <th>VCF9272</th>\n",
       "      <th>VCF9273</th>\n",
       "      <th>VCF9274</th>\n",
       "      <th>VCF9275</th>\n",
       "      <th>VCF9277</th>\n",
       "      <th>VCF9278</th>\n",
       "      <th>VCF9279</th>\n",
       "      <th>VCF9280</th>\n",
       "      <th>VCF9281</th>\n",
       "      <th>VCF9282</th>\n",
       "    </tr>\n",
       "  </thead>\n",
       "  <tbody>\n",
       "    <tr>\n",
       "      <th>0</th>\n",
       "      <td>ANES_CDF_VERSION:2019-Sep-10</td>\n",
       "      <td>1948</td>\n",
       "      <td>1001</td>\n",
       "      <td>19481001</td>\n",
       "      <td>1.0</td>\n",
       "      <td>1.0</td>\n",
       "      <td>1.0</td>\n",
       "      <td>1.000</td>\n",
       "      <td>1.000</td>\n",
       "      <td>1.000</td>\n",
       "      <td>...</td>\n",
       "      <td>NaN</td>\n",
       "      <td>NaN</td>\n",
       "      <td>NaN</td>\n",
       "      <td>NaN</td>\n",
       "      <td>NaN</td>\n",
       "      <td>NaN</td>\n",
       "      <td>NaN</td>\n",
       "      <td>NaN</td>\n",
       "      <td>NaN</td>\n",
       "      <td>NaN</td>\n",
       "    </tr>\n",
       "    <tr>\n",
       "      <th>1</th>\n",
       "      <td>ANES_CDF_VERSION:2019-Sep-10</td>\n",
       "      <td>1948</td>\n",
       "      <td>1002</td>\n",
       "      <td>19481002</td>\n",
       "      <td>1.0</td>\n",
       "      <td>1.0</td>\n",
       "      <td>1.0</td>\n",
       "      <td>1.000</td>\n",
       "      <td>1.000</td>\n",
       "      <td>1.000</td>\n",
       "      <td>...</td>\n",
       "      <td>NaN</td>\n",
       "      <td>NaN</td>\n",
       "      <td>NaN</td>\n",
       "      <td>NaN</td>\n",
       "      <td>NaN</td>\n",
       "      <td>NaN</td>\n",
       "      <td>NaN</td>\n",
       "      <td>NaN</td>\n",
       "      <td>NaN</td>\n",
       "      <td>NaN</td>\n",
       "    </tr>\n",
       "    <tr>\n",
       "      <th>2</th>\n",
       "      <td>ANES_CDF_VERSION:2019-Sep-10</td>\n",
       "      <td>1948</td>\n",
       "      <td>1003</td>\n",
       "      <td>19481003</td>\n",
       "      <td>1.0</td>\n",
       "      <td>1.0</td>\n",
       "      <td>1.0</td>\n",
       "      <td>1.000</td>\n",
       "      <td>1.000</td>\n",
       "      <td>1.000</td>\n",
       "      <td>...</td>\n",
       "      <td>NaN</td>\n",
       "      <td>NaN</td>\n",
       "      <td>NaN</td>\n",
       "      <td>NaN</td>\n",
       "      <td>NaN</td>\n",
       "      <td>NaN</td>\n",
       "      <td>NaN</td>\n",
       "      <td>NaN</td>\n",
       "      <td>NaN</td>\n",
       "      <td>NaN</td>\n",
       "    </tr>\n",
       "    <tr>\n",
       "      <th>3</th>\n",
       "      <td>ANES_CDF_VERSION:2019-Sep-10</td>\n",
       "      <td>1948</td>\n",
       "      <td>1004</td>\n",
       "      <td>19481004</td>\n",
       "      <td>1.0</td>\n",
       "      <td>1.0</td>\n",
       "      <td>1.0</td>\n",
       "      <td>1.000</td>\n",
       "      <td>1.000</td>\n",
       "      <td>1.000</td>\n",
       "      <td>...</td>\n",
       "      <td>NaN</td>\n",
       "      <td>NaN</td>\n",
       "      <td>NaN</td>\n",
       "      <td>NaN</td>\n",
       "      <td>NaN</td>\n",
       "      <td>NaN</td>\n",
       "      <td>NaN</td>\n",
       "      <td>NaN</td>\n",
       "      <td>NaN</td>\n",
       "      <td>NaN</td>\n",
       "    </tr>\n",
       "    <tr>\n",
       "      <th>4</th>\n",
       "      <td>ANES_CDF_VERSION:2019-Sep-10</td>\n",
       "      <td>1948</td>\n",
       "      <td>1005</td>\n",
       "      <td>19481005</td>\n",
       "      <td>1.0</td>\n",
       "      <td>1.0</td>\n",
       "      <td>1.0</td>\n",
       "      <td>1.000</td>\n",
       "      <td>1.000</td>\n",
       "      <td>1.000</td>\n",
       "      <td>...</td>\n",
       "      <td>NaN</td>\n",
       "      <td>NaN</td>\n",
       "      <td>NaN</td>\n",
       "      <td>NaN</td>\n",
       "      <td>NaN</td>\n",
       "      <td>NaN</td>\n",
       "      <td>NaN</td>\n",
       "      <td>NaN</td>\n",
       "      <td>NaN</td>\n",
       "      <td>NaN</td>\n",
       "    </tr>\n",
       "    <tr>\n",
       "      <th>...</th>\n",
       "      <td>...</td>\n",
       "      <td>...</td>\n",
       "      <td>...</td>\n",
       "      <td>...</td>\n",
       "      <td>...</td>\n",
       "      <td>...</td>\n",
       "      <td>...</td>\n",
       "      <td>...</td>\n",
       "      <td>...</td>\n",
       "      <td>...</td>\n",
       "      <td>...</td>\n",
       "      <td>...</td>\n",
       "      <td>...</td>\n",
       "      <td>...</td>\n",
       "      <td>...</td>\n",
       "      <td>...</td>\n",
       "      <td>...</td>\n",
       "      <td>...</td>\n",
       "      <td>...</td>\n",
       "      <td>...</td>\n",
       "      <td>...</td>\n",
       "    </tr>\n",
       "    <tr>\n",
       "      <th>59939</th>\n",
       "      <td>ANES_CDF_VERSION:2019-Sep-10</td>\n",
       "      <td>2016</td>\n",
       "      <td>5086</td>\n",
       "      <td>20165086</td>\n",
       "      <td>0.0</td>\n",
       "      <td>0.0</td>\n",
       "      <td>0.0</td>\n",
       "      <td>0.818</td>\n",
       "      <td>0.818</td>\n",
       "      <td>0.818</td>\n",
       "      <td>...</td>\n",
       "      <td>2.0</td>\n",
       "      <td>1.0</td>\n",
       "      <td>NaN</td>\n",
       "      <td>3.0</td>\n",
       "      <td>1.0</td>\n",
       "      <td>2.0</td>\n",
       "      <td>1.0</td>\n",
       "      <td>1.0</td>\n",
       "      <td>1.0</td>\n",
       "      <td>1.0</td>\n",
       "    </tr>\n",
       "    <tr>\n",
       "      <th>59940</th>\n",
       "      <td>ANES_CDF_VERSION:2019-Sep-10</td>\n",
       "      <td>2016</td>\n",
       "      <td>5087</td>\n",
       "      <td>20165087</td>\n",
       "      <td>0.0</td>\n",
       "      <td>0.0</td>\n",
       "      <td>0.0</td>\n",
       "      <td>1.280</td>\n",
       "      <td>1.280</td>\n",
       "      <td>1.280</td>\n",
       "      <td>...</td>\n",
       "      <td>3.0</td>\n",
       "      <td>6.0</td>\n",
       "      <td>NaN</td>\n",
       "      <td>2.0</td>\n",
       "      <td>-9.0</td>\n",
       "      <td>-9.0</td>\n",
       "      <td>1.0</td>\n",
       "      <td>2.0</td>\n",
       "      <td>1.0</td>\n",
       "      <td>1.0</td>\n",
       "    </tr>\n",
       "    <tr>\n",
       "      <th>59941</th>\n",
       "      <td>ANES_CDF_VERSION:2019-Sep-10</td>\n",
       "      <td>2016</td>\n",
       "      <td>5088</td>\n",
       "      <td>20165088</td>\n",
       "      <td>0.0</td>\n",
       "      <td>0.0</td>\n",
       "      <td>0.0</td>\n",
       "      <td>3.788</td>\n",
       "      <td>3.788</td>\n",
       "      <td>3.788</td>\n",
       "      <td>...</td>\n",
       "      <td>1.0</td>\n",
       "      <td>5.0</td>\n",
       "      <td>NaN</td>\n",
       "      <td>2.0</td>\n",
       "      <td>-9.0</td>\n",
       "      <td>-9.0</td>\n",
       "      <td>1.0</td>\n",
       "      <td>2.0</td>\n",
       "      <td>1.0</td>\n",
       "      <td>1.0</td>\n",
       "    </tr>\n",
       "    <tr>\n",
       "      <th>59942</th>\n",
       "      <td>ANES_CDF_VERSION:2019-Sep-10</td>\n",
       "      <td>2016</td>\n",
       "      <td>5089</td>\n",
       "      <td>20165089</td>\n",
       "      <td>0.0</td>\n",
       "      <td>0.0</td>\n",
       "      <td>0.0</td>\n",
       "      <td>1.162</td>\n",
       "      <td>1.162</td>\n",
       "      <td>1.162</td>\n",
       "      <td>...</td>\n",
       "      <td>2.0</td>\n",
       "      <td>2.0</td>\n",
       "      <td>NaN</td>\n",
       "      <td>3.0</td>\n",
       "      <td>2.0</td>\n",
       "      <td>2.0</td>\n",
       "      <td>1.0</td>\n",
       "      <td>2.0</td>\n",
       "      <td>1.0</td>\n",
       "      <td>1.0</td>\n",
       "    </tr>\n",
       "    <tr>\n",
       "      <th>59943</th>\n",
       "      <td>ANES_CDF_VERSION:2019-Sep-10</td>\n",
       "      <td>2016</td>\n",
       "      <td>5090</td>\n",
       "      <td>20165090</td>\n",
       "      <td>0.0</td>\n",
       "      <td>0.0</td>\n",
       "      <td>0.0</td>\n",
       "      <td>1.424</td>\n",
       "      <td>1.424</td>\n",
       "      <td>1.424</td>\n",
       "      <td>...</td>\n",
       "      <td>-9.0</td>\n",
       "      <td>-9.0</td>\n",
       "      <td>NaN</td>\n",
       "      <td>-9.0</td>\n",
       "      <td>1.0</td>\n",
       "      <td>2.0</td>\n",
       "      <td>1.0</td>\n",
       "      <td>2.0</td>\n",
       "      <td>1.0</td>\n",
       "      <td>1.0</td>\n",
       "    </tr>\n",
       "  </tbody>\n",
       "</table>\n",
       "<p>59944 rows × 1029 columns</p>\n",
       "</div>"
      ],
      "text/plain": [
       "                            Version  VCF0004  VCF0006  VCF0006a  VCF0009x  \\\n",
       "0      ANES_CDF_VERSION:2019-Sep-10     1948     1001  19481001       1.0   \n",
       "1      ANES_CDF_VERSION:2019-Sep-10     1948     1002  19481002       1.0   \n",
       "2      ANES_CDF_VERSION:2019-Sep-10     1948     1003  19481003       1.0   \n",
       "3      ANES_CDF_VERSION:2019-Sep-10     1948     1004  19481004       1.0   \n",
       "4      ANES_CDF_VERSION:2019-Sep-10     1948     1005  19481005       1.0   \n",
       "...                             ...      ...      ...       ...       ...   \n",
       "59939  ANES_CDF_VERSION:2019-Sep-10     2016     5086  20165086       0.0   \n",
       "59940  ANES_CDF_VERSION:2019-Sep-10     2016     5087  20165087       0.0   \n",
       "59941  ANES_CDF_VERSION:2019-Sep-10     2016     5088  20165088       0.0   \n",
       "59942  ANES_CDF_VERSION:2019-Sep-10     2016     5089  20165089       0.0   \n",
       "59943  ANES_CDF_VERSION:2019-Sep-10     2016     5090  20165090       0.0   \n",
       "\n",
       "       VCF0010x  VCF0011x  VCF0009y  VCF0010y  VCF0011y  ...  VCF9272  \\\n",
       "0           1.0       1.0     1.000     1.000     1.000  ...      NaN   \n",
       "1           1.0       1.0     1.000     1.000     1.000  ...      NaN   \n",
       "2           1.0       1.0     1.000     1.000     1.000  ...      NaN   \n",
       "3           1.0       1.0     1.000     1.000     1.000  ...      NaN   \n",
       "4           1.0       1.0     1.000     1.000     1.000  ...      NaN   \n",
       "...         ...       ...       ...       ...       ...  ...      ...   \n",
       "59939       0.0       0.0     0.818     0.818     0.818  ...      2.0   \n",
       "59940       0.0       0.0     1.280     1.280     1.280  ...      3.0   \n",
       "59941       0.0       0.0     3.788     3.788     3.788  ...      1.0   \n",
       "59942       0.0       0.0     1.162     1.162     1.162  ...      2.0   \n",
       "59943       0.0       0.0     1.424     1.424     1.424  ...     -9.0   \n",
       "\n",
       "       VCF9273  VCF9274  VCF9275  VCF9277  VCF9278  VCF9279  VCF9280  VCF9281  \\\n",
       "0          NaN      NaN      NaN      NaN      NaN      NaN      NaN      NaN   \n",
       "1          NaN      NaN      NaN      NaN      NaN      NaN      NaN      NaN   \n",
       "2          NaN      NaN      NaN      NaN      NaN      NaN      NaN      NaN   \n",
       "3          NaN      NaN      NaN      NaN      NaN      NaN      NaN      NaN   \n",
       "4          NaN      NaN      NaN      NaN      NaN      NaN      NaN      NaN   \n",
       "...        ...      ...      ...      ...      ...      ...      ...      ...   \n",
       "59939      1.0      NaN      3.0      1.0      2.0      1.0      1.0      1.0   \n",
       "59940      6.0      NaN      2.0     -9.0     -9.0      1.0      2.0      1.0   \n",
       "59941      5.0      NaN      2.0     -9.0     -9.0      1.0      2.0      1.0   \n",
       "59942      2.0      NaN      3.0      2.0      2.0      1.0      2.0      1.0   \n",
       "59943     -9.0      NaN     -9.0      1.0      2.0      1.0      2.0      1.0   \n",
       "\n",
       "       VCF9282  \n",
       "0          NaN  \n",
       "1          NaN  \n",
       "2          NaN  \n",
       "3          NaN  \n",
       "4          NaN  \n",
       "...        ...  \n",
       "59939      1.0  \n",
       "59940      1.0  \n",
       "59941      1.0  \n",
       "59942      1.0  \n",
       "59943      1.0  \n",
       "\n",
       "[59944 rows x 1029 columns]"
      ]
     },
     "execution_count": 4,
     "metadata": {},
     "output_type": "execute_result"
    }
   ],
   "source": [
    "anes = pd.read_csv('anes_timeseries_cdf_rawdata.txt', delimiter=',', low_memory=False, na_values=[' ','  '])\n",
    "anes"
   ]
  },
  {
   "cell_type": "markdown",
   "metadata": {},
   "source": [
    "Load and clean general statistics (gender, race, socio economic status, age, education):"
   ]
  },
  {
   "cell_type": "code",
   "execution_count": 16,
   "metadata": {},
   "outputs": [
    {
     "data": {
      "text/plain": [
       "0      144\n",
       "1    26849\n",
       "2    32940\n",
       "3       11\n",
       "Name: gender, dtype: int64"
      ]
     },
     "execution_count": 16,
     "metadata": {},
     "output_type": "execute_result"
    }
   ],
   "source": [
    "gender = anes['VCF0104']\n",
    "gender.name='gender'\n",
    "values(gender)"
   ]
  },
  {
   "cell_type": "markdown",
   "metadata": {},
   "source": [
    "And clean the gender variable. 0 corresponds to NA and 3 is other (it pains me to remove this, but the sample size is too small). 1 corresponds to male and 2 to female."
   ]
  },
  {
   "cell_type": "code",
   "execution_count": 17,
   "metadata": {},
   "outputs": [
    {
     "data": {
      "text/plain": [
       "female    32940\n",
       "male      26849\n",
       "Name: gender, dtype: int64"
      ]
     },
     "execution_count": 17,
     "metadata": {},
     "output_type": "execute_result"
    }
   ],
   "source": [
    "remap = {1: 'male',\n",
    "         2: 'female',\n",
    "         0: np.nan,\n",
    "         3: np.nan}\n",
    "gender = gender.replace(remap)\n",
    "values(gender)"
   ]
  },
  {
   "cell_type": "code",
   "execution_count": 18,
   "metadata": {},
   "outputs": [
    {
     "data": {
      "text/plain": [
       "black        6906\n",
       "hispanic     3942\n",
       "other        1466\n",
       "white       46035\n",
       "Name: race, dtype: int64"
      ]
     },
     "execution_count": 18,
     "metadata": {},
     "output_type": "execute_result"
    }
   ],
   "source": [
    "race = anes['VCF0105b'].replace([9, 0], np.nan) # 9 is NA/missing, 0 is missing\n",
    "race.name='race'\n",
    "remap = {1: 'white',\n",
    "         2: 'black',\n",
    "         3: 'hispanic',\n",
    "         4: 'other'}\n",
    "race = race.replace(remap)\n",
    "values(race)"
   ]
  },
  {
   "cell_type": "code",
   "execution_count": 19,
   "metadata": {},
   "outputs": [
    {
     "data": {
      "text/plain": [
       "lower           9474\n",
       "lowerMiddle     9064\n",
       "middle         17868\n",
       "upper           2835\n",
       "upperMiddle    15254\n",
       "Name: income, dtype: int64"
      ]
     },
     "execution_count": 19,
     "metadata": {},
     "output_type": "execute_result"
    }
   ],
   "source": [
    "income = anes['VCF0114'].replace(0, np.nan) # 0 is don't know or NA\n",
    "remap = {1: 'lower',\n",
    "         2: 'lowerMiddle',\n",
    "         3: 'middle',\n",
    "         4: 'upperMiddle',\n",
    "         5: 'upper'}\n",
    "income = income.replace(remap)\n",
    "income.name='income'\n",
    "values(income)"
   ]
  },
  {
   "cell_type": "markdown",
   "metadata": {},
   "source": [
    "Here is the translation guide from income percent to class:\n",
    "\n",
    "Percentile | Class Label\n",
    "--- | ---\n",
    "0 to 16 percentile | Lower\n",
    "17 to 33 percentile | Lower Middle\n",
    "34 to 67 percentile | Middle\n",
    "68 to 95 percentile | Upper Middle\n",
    "96 to 100 percentile | Upper"
   ]
  },
  {
   "cell_type": "code",
   "execution_count": 20,
   "metadata": {},
   "outputs": [
    {
     "data": {
      "text/plain": [
       "17-24     5630\n",
       "25-34    12241\n",
       "35-44    11838\n",
       "45-54    10106\n",
       "55-64     8970\n",
       "65-74     6787\n",
       "75-99     3818\n",
       "Name: age, dtype: int64"
      ]
     },
     "execution_count": 20,
     "metadata": {},
     "output_type": "execute_result"
    }
   ],
   "source": [
    "age = anes['VCF0102'].replace(0, np.nan) # 0 is NA or Don't Know\n",
    "age.name='age'\n",
    "remap = {1: '17-24',\n",
    "         2: '25-34',\n",
    "         3: '35-44',\n",
    "         4: '45-54',\n",
    "         5: '55-64',\n",
    "         6: '65-74',\n",
    "         7: '75-99'}\n",
    "age = age.replace(remap)\n",
    "values(age)"
   ]
  },
  {
   "cell_type": "markdown",
   "metadata": {},
   "source": [
    "I cut the age off at 89 due to inconsistencies across the year with what values above 90 meant. Some years 90 meant 90 and above, some years 91 meant  91 and above and 90 meant 90, and so on - up to 99. "
   ]
  },
  {
   "cell_type": "code",
   "execution_count": 21,
   "metadata": {},
   "outputs": [
    {
     "data": {
      "text/plain": [
       "College Degree    12011\n",
       "Grade School       8098\n",
       "High School       25884\n",
       "Some College      13360\n",
       "Name: educ, dtype: int64"
      ]
     },
     "execution_count": 21,
     "metadata": {},
     "output_type": "execute_result"
    }
   ],
   "source": [
    "educ = anes['VCF0110'].replace(0, np.nan) # 0 is DK, NA (used 4 category for easy of data, there are also 6 and 7 category versions)\n",
    "remap = {1: 'Grade School',\n",
    "         2: 'High School',\n",
    "         3: 'Some College',\n",
    "         4: 'College Degree'}\n",
    "educ = educ.replace(remap)\n",
    "educ.name='educ'\n",
    "values(educ)"
   ]
  },
  {
   "cell_type": "markdown",
   "metadata": {},
   "source": [
    "1. 8 grades or less ('grade school')\n",
    "2. 9-12 grades ('high school'), no diploma/equivalency\n",
    "3. 12 grades, diploma or equivalency\n",
    "4. 12 grades, diploma or equivalency plus non-academic training\n",
    "5. Some college, no degree; junior/community college level degree (AA degree)\n",
    "6. BA level degrees\n",
    "7. Advanced degrees incl. LLB"
   ]
  },
  {
   "cell_type": "markdown",
   "metadata": {},
   "source": [
    "Load and clean the variables for the respondent's parent's political affiliation:"
   ]
  },
  {
   "cell_type": "code",
   "execution_count": 22,
   "metadata": {},
   "outputs": [
    {
     "data": {
      "text/plain": [
       "Democrat       9747\n",
       "Independent    1355\n",
       "Republican     5351\n",
       "Name: DadPol, dtype: int64"
      ]
     },
     "execution_count": 22,
     "metadata": {},
     "output_type": "execute_result"
    }
   ],
   "source": [
    "fatherPol = anes['VCF0306'].replace([0, 4, 9], np.nan)\n",
    "# 0, 4, and 9 represent \"NA\", \"Other\" and  \"Don't know\" respectively\n",
    "remap = {1: 'Democrat',\n",
    "         2: 'Independent',\n",
    "         3: 'Republican'}\n",
    "fatherPol = fatherPol.replace(remap)\n",
    "fatherPol.name='DadPol'\n",
    "values(fatherPol)"
   ]
  },
  {
   "cell_type": "code",
   "execution_count": 23,
   "metadata": {},
   "outputs": [
    {
     "data": {
      "text/plain": [
       "Democrat       9337\n",
       "Independent    1416\n",
       "Republican     5061\n",
       "Name: MomPol, dtype: int64"
      ]
     },
     "execution_count": 23,
     "metadata": {},
     "output_type": "execute_result"
    }
   ],
   "source": [
    "motherPol = anes['VCF0307'].replace([0, 4, 9], np.nan)\n",
    "remap = {1: 'Democrat',\n",
    "         2: 'Independent',\n",
    "         3: 'Republican'}\n",
    "motherPol = motherPol.replace(remap)\n",
    "motherPol.name='MomPol'\n",
    "values(motherPol)"
   ]
  },
  {
   "cell_type": "markdown",
   "metadata": {},
   "source": [
    "Here is a seven point political affilation scale in case we need it later:"
   ]
  },
  {
   "cell_type": "markdown",
   "metadata": {},
   "source": [
    "Where:\n",
    "\n",
    "0. NA\n",
    "1. Strong Democrat\n",
    "2. Weak Democrat\n",
    "3. Independent -Democrat\n",
    "4. Independent -Independent\n",
    "5. Independent -Republican\n",
    "6. Weak Republican\n",
    "7. Strong Republican"
   ]
  },
  {
   "cell_type": "code",
   "execution_count": 24,
   "metadata": {},
   "outputs": [
    {
     "data": {
      "text/plain": [
       "1.0    11695\n",
       "2.0    11820\n",
       "3.0     6886\n",
       "4.0     6988\n",
       "5.0     5882\n",
       "6.0     7921\n",
       "7.0     7075\n",
       "Name: pol7, dtype: int64"
      ]
     },
     "execution_count": 24,
     "metadata": {},
     "output_type": "execute_result"
    }
   ],
   "source": [
    "pol7 = anes['VCF0301'].replace(0, np.nan)\n",
    "pol7.name='pol7'\n",
    "values(pol7)"
   ]
  },
  {
   "cell_type": "markdown",
   "metadata": {},
   "source": [
    "And let's create a simple three point scale, just like in the variable booklet (including leaners):"
   ]
  },
  {
   "cell_type": "code",
   "execution_count": 25,
   "metadata": {},
   "outputs": [
    {
     "data": {
      "text/plain": [
       "1.0    30401\n",
       "2.0     6988\n",
       "3.0    20878\n",
       "Name: pol, dtype: int64"
      ]
     },
     "execution_count": 25,
     "metadata": {},
     "output_type": "execute_result"
    }
   ],
   "source": [
    "remap = {1: 1,\n",
    "         2: 1,\n",
    "         3: 1,\n",
    "         4: 2,\n",
    "         5: 3,\n",
    "         6: 3,\n",
    "         7: 3}\n",
    "pol = pol7.replace(remap)\n",
    "pol.name='pol'\n",
    "values(pol)"
   ]
  },
  {
   "cell_type": "markdown",
   "metadata": {},
   "source": [
    "Finally load the year time series and construct a new dataframe with the cleaned data."
   ]
  },
  {
   "cell_type": "code",
   "execution_count": 26,
   "metadata": {},
   "outputs": [
    {
     "data": {
      "text/plain": [
       "0        1948\n",
       "1        1948\n",
       "2        1948\n",
       "3        1948\n",
       "4        1948\n",
       "         ... \n",
       "59939    2016\n",
       "59940    2016\n",
       "59941    2016\n",
       "59942    2016\n",
       "59943    2016\n",
       "Name: Year, Length: 59944, dtype: int64"
      ]
     },
     "execution_count": 26,
     "metadata": {},
     "output_type": "execute_result"
    }
   ],
   "source": [
    "year = anes['VCF0004']\n",
    "year.name='Year'\n",
    "year"
   ]
  },
  {
   "cell_type": "markdown",
   "metadata": {},
   "source": [
    "# Data Verification\n",
    "To make sure all our variables loaded correctly, let's verify our data by testing a random year for each one. To do this, I used the [individual year](https://electionstudies.org/data-center/) time series links from the ANES site."
   ]
  },
  {
   "cell_type": "markdown",
   "metadata": {},
   "source": [
    "**Gender**\n",
    "\n",
    "For the year 1992, we expect:\n",
    "1. 1327 female respondents\n",
    "2. 1158 male respondents"
   ]
  },
  {
   "cell_type": "code",
   "execution_count": 77,
   "metadata": {},
   "outputs": [
    {
     "data": {
      "text/plain": [
       "female    1327\n",
       "male      1158\n",
       "Name: gender, dtype: int64"
      ]
     },
     "execution_count": 77,
     "metadata": {},
     "output_type": "execute_result"
    }
   ],
   "source": [
    "values(gender[(year == 1992)])"
   ]
  },
  {
   "cell_type": "markdown",
   "metadata": {},
   "source": [
    "**Race**\n",
    "\n",
    "For the year 1970, we expect: \n",
    "1. 1340 white\n",
    "2. 145 black\n",
    "3. 14 hispanic\n",
    "4. 8 other"
   ]
  },
  {
   "cell_type": "code",
   "execution_count": 80,
   "metadata": {},
   "outputs": [
    {
     "data": {
      "text/plain": [
       "black        145\n",
       "hispanic      14\n",
       "other          8\n",
       "white       1340\n",
       "Name: race, dtype: int64"
      ]
     },
     "execution_count": 80,
     "metadata": {},
     "output_type": "execute_result"
    }
   ],
   "source": [
    "values(race[(year == 1970)])"
   ]
  },
  {
   "cell_type": "markdown",
   "metadata": {},
   "source": [
    "**Income**\n",
    "\n",
    "Due to the inconsistent value reporting for the income grouping, it was not possible to accurately validate my income data.\n"
   ]
  },
  {
   "cell_type": "markdown",
   "metadata": {},
   "source": [
    "**Age**\n",
    "\n",
    "For the year 2016, we expect:\n",
    "1. 17-24 -> 328\n",
    "2. 25-34 -> 710\n",
    "3. 35-44 -> 655\n",
    "4. 45-54 -> 688\n",
    "5. 55-64 -> 817\n",
    "6. 65-74 -> 623\n",
    "7. 75-99 -> 328"
   ]
  },
  {
   "cell_type": "code",
   "execution_count": 85,
   "metadata": {},
   "outputs": [
    {
     "data": {
      "text/plain": [
       "17-24    328\n",
       "25-34    710\n",
       "35-44    655\n",
       "45-54    688\n",
       "55-64    817\n",
       "65-74    623\n",
       "75-99    328\n",
       "Name: age, dtype: int64"
      ]
     },
     "execution_count": 85,
     "metadata": {},
     "output_type": "execute_result"
    }
   ],
   "source": [
    "values(age[(year == 2016)])"
   ]
  },
  {
   "cell_type": "markdown",
   "metadata": {},
   "source": [
    "**Education**\n",
    "\n",
    "For the year 1988, we expect:\n",
    "1. Grade School: 199\n",
    "2. High School: 957\n",
    "3. Some College: 450\n",
    "4. College Degree: 397"
   ]
  },
  {
   "cell_type": "code",
   "execution_count": 89,
   "metadata": {},
   "outputs": [
    {
     "data": {
      "text/plain": [
       "College Degree    397\n",
       "Grade School      199\n",
       "High School       957\n",
       "Some College      450\n",
       "Name: educ, dtype: int64"
      ]
     },
     "execution_count": 89,
     "metadata": {},
     "output_type": "execute_result"
    }
   ],
   "source": [
    "values(educ[(year == 1988)])"
   ]
  },
  {
   "cell_type": "markdown",
   "metadata": {},
   "source": [
    "**Father Political Affiliation**\n",
    "\n",
    "For the year 1972, I expect:\n",
    "1. 1282 Democrats\n",
    "2. 166 Independetns\n",
    "3. 690 Republicans"
   ]
  },
  {
   "cell_type": "code",
   "execution_count": 90,
   "metadata": {},
   "outputs": [
    {
     "data": {
      "text/plain": [
       "Democrat       1282\n",
       "Independent     166\n",
       "Republican      690\n",
       "Name: DadPol, dtype: int64"
      ]
     },
     "execution_count": 90,
     "metadata": {},
     "output_type": "execute_result"
    }
   ],
   "source": [
    "values(fatherPol[(year == 1972)])"
   ]
  },
  {
   "cell_type": "markdown",
   "metadata": {},
   "source": [
    "**Mother Political Affiliation**\n",
    "\n",
    "For the year 1972, I expect:\n",
    "1. 1277 Democrats\n",
    "2. 178 Independents\n",
    "3. 654 Republicans"
   ]
  },
  {
   "cell_type": "code",
   "execution_count": 92,
   "metadata": {},
   "outputs": [
    {
     "data": {
      "text/plain": [
       "Democrat       1277\n",
       "Independent     178\n",
       "Republican      654\n",
       "Name: MomPol, dtype: int64"
      ]
     },
     "execution_count": 92,
     "metadata": {},
     "output_type": "execute_result"
    }
   ],
   "source": [
    "values(motherPol[(year == 1972)])"
   ]
  },
  {
   "cell_type": "markdown",
   "metadata": {},
   "source": [
    "**Political Affiliation**"
   ]
  },
  {
   "cell_type": "markdown",
   "metadata": {},
   "source": [
    "Verify political affilitaon for 1980, there should be: \n",
    "\n",
    "1. 286 Strong Democrats\n",
    "2. 372 Weak Democrats\n",
    "3. 184 Independent - Democrats\n",
    "4. 243 Independent - Independent\n",
    "5. 165 Independent - Republican\n",
    "6. 225 Weak Republican\n",
    "7. 137 Strong Republican"
   ]
  },
  {
   "cell_type": "code",
   "execution_count": 104,
   "metadata": {},
   "outputs": [
    {
     "data": {
      "text/plain": [
       "1.0    286\n",
       "2.0    371\n",
       "3.0    184\n",
       "4.0    243\n",
       "5.0    166\n",
       "6.0    225\n",
       "7.0    137\n",
       "Name: pol7, dtype: int64"
      ]
     },
     "execution_count": 104,
     "metadata": {},
     "output_type": "execute_result"
    }
   ],
   "source": [
    "column = data['pol7']\n",
    "one_year = (data['year'] == 1980)\n",
    "values(column[one_year])"
   ]
  },
  {
   "cell_type": "markdown",
   "metadata": {},
   "source": [
    "These values do not seem to be exact, though they are incredibly close. I am not sure what is causing this. So in the name of time, let's keep going.\n",
    "\n",
    "The data looks pretty good, so I think I will be in good shape."
   ]
  },
  {
   "cell_type": "markdown",
   "metadata": {},
   "source": [
    "Finally let's construct a dataframe to keep all our data organized for when we do analysis:"
   ]
  },
  {
   "cell_type": "code",
   "execution_count": 109,
   "metadata": {},
   "outputs": [
    {
     "data": {
      "text/html": [
       "<div>\n",
       "<style scoped>\n",
       "    .dataframe tbody tr th:only-of-type {\n",
       "        vertical-align: middle;\n",
       "    }\n",
       "\n",
       "    .dataframe tbody tr th {\n",
       "        vertical-align: top;\n",
       "    }\n",
       "\n",
       "    .dataframe thead th {\n",
       "        text-align: right;\n",
       "    }\n",
       "</style>\n",
       "<table border=\"1\" class=\"dataframe\">\n",
       "  <thead>\n",
       "    <tr style=\"text-align: right;\">\n",
       "      <th></th>\n",
       "      <th>year</th>\n",
       "      <th>gender</th>\n",
       "      <th>race</th>\n",
       "      <th>income</th>\n",
       "      <th>age</th>\n",
       "      <th>educ</th>\n",
       "      <th>fatherPol</th>\n",
       "      <th>motherPol</th>\n",
       "      <th>pol</th>\n",
       "      <th>pol7</th>\n",
       "      <th>weight</th>\n",
       "    </tr>\n",
       "  </thead>\n",
       "  <tbody>\n",
       "    <tr>\n",
       "      <th>0</th>\n",
       "      <td>1948</td>\n",
       "      <td>male</td>\n",
       "      <td>white</td>\n",
       "      <td>middle</td>\n",
       "      <td>35-44</td>\n",
       "      <td>Grade School</td>\n",
       "      <td>NaN</td>\n",
       "      <td>NaN</td>\n",
       "      <td>NaN</td>\n",
       "      <td>NaN</td>\n",
       "      <td>1.0</td>\n",
       "    </tr>\n",
       "    <tr>\n",
       "      <th>1</th>\n",
       "      <td>1948</td>\n",
       "      <td>female</td>\n",
       "      <td>white</td>\n",
       "      <td>upper</td>\n",
       "      <td>35-44</td>\n",
       "      <td>High School</td>\n",
       "      <td>NaN</td>\n",
       "      <td>NaN</td>\n",
       "      <td>NaN</td>\n",
       "      <td>NaN</td>\n",
       "      <td>1.0</td>\n",
       "    </tr>\n",
       "    <tr>\n",
       "      <th>2</th>\n",
       "      <td>1948</td>\n",
       "      <td>female</td>\n",
       "      <td>white</td>\n",
       "      <td>upperMiddle</td>\n",
       "      <td>25-34</td>\n",
       "      <td>High School</td>\n",
       "      <td>NaN</td>\n",
       "      <td>NaN</td>\n",
       "      <td>NaN</td>\n",
       "      <td>NaN</td>\n",
       "      <td>1.0</td>\n",
       "    </tr>\n",
       "    <tr>\n",
       "      <th>3</th>\n",
       "      <td>1948</td>\n",
       "      <td>female</td>\n",
       "      <td>white</td>\n",
       "      <td>upper</td>\n",
       "      <td>35-44</td>\n",
       "      <td>Some College</td>\n",
       "      <td>NaN</td>\n",
       "      <td>NaN</td>\n",
       "      <td>NaN</td>\n",
       "      <td>NaN</td>\n",
       "      <td>1.0</td>\n",
       "    </tr>\n",
       "    <tr>\n",
       "      <th>4</th>\n",
       "      <td>1948</td>\n",
       "      <td>male</td>\n",
       "      <td>white</td>\n",
       "      <td>upperMiddle</td>\n",
       "      <td>25-34</td>\n",
       "      <td>Some College</td>\n",
       "      <td>NaN</td>\n",
       "      <td>NaN</td>\n",
       "      <td>NaN</td>\n",
       "      <td>NaN</td>\n",
       "      <td>1.0</td>\n",
       "    </tr>\n",
       "    <tr>\n",
       "      <th>...</th>\n",
       "      <td>...</td>\n",
       "      <td>...</td>\n",
       "      <td>...</td>\n",
       "      <td>...</td>\n",
       "      <td>...</td>\n",
       "      <td>...</td>\n",
       "      <td>...</td>\n",
       "      <td>...</td>\n",
       "      <td>...</td>\n",
       "      <td>...</td>\n",
       "      <td>...</td>\n",
       "    </tr>\n",
       "    <tr>\n",
       "      <th>59939</th>\n",
       "      <td>2016</td>\n",
       "      <td>female</td>\n",
       "      <td>white</td>\n",
       "      <td>upperMiddle</td>\n",
       "      <td>35-44</td>\n",
       "      <td>College Degree</td>\n",
       "      <td>NaN</td>\n",
       "      <td>NaN</td>\n",
       "      <td>1.0</td>\n",
       "      <td>1.0</td>\n",
       "      <td>0.0</td>\n",
       "    </tr>\n",
       "    <tr>\n",
       "      <th>59940</th>\n",
       "      <td>2016</td>\n",
       "      <td>male</td>\n",
       "      <td>white</td>\n",
       "      <td>NaN</td>\n",
       "      <td>75-99</td>\n",
       "      <td>High School</td>\n",
       "      <td>NaN</td>\n",
       "      <td>NaN</td>\n",
       "      <td>1.0</td>\n",
       "      <td>1.0</td>\n",
       "      <td>0.0</td>\n",
       "    </tr>\n",
       "    <tr>\n",
       "      <th>59941</th>\n",
       "      <td>2016</td>\n",
       "      <td>male</td>\n",
       "      <td>white</td>\n",
       "      <td>lower</td>\n",
       "      <td>25-34</td>\n",
       "      <td>High School</td>\n",
       "      <td>NaN</td>\n",
       "      <td>NaN</td>\n",
       "      <td>1.0</td>\n",
       "      <td>2.0</td>\n",
       "      <td>0.0</td>\n",
       "    </tr>\n",
       "    <tr>\n",
       "      <th>59942</th>\n",
       "      <td>2016</td>\n",
       "      <td>female</td>\n",
       "      <td>black</td>\n",
       "      <td>lower</td>\n",
       "      <td>35-44</td>\n",
       "      <td>Some College</td>\n",
       "      <td>NaN</td>\n",
       "      <td>NaN</td>\n",
       "      <td>1.0</td>\n",
       "      <td>1.0</td>\n",
       "      <td>0.0</td>\n",
       "    </tr>\n",
       "    <tr>\n",
       "      <th>59943</th>\n",
       "      <td>2016</td>\n",
       "      <td>male</td>\n",
       "      <td>white</td>\n",
       "      <td>upperMiddle</td>\n",
       "      <td>45-54</td>\n",
       "      <td>College Degree</td>\n",
       "      <td>NaN</td>\n",
       "      <td>NaN</td>\n",
       "      <td>3.0</td>\n",
       "      <td>6.0</td>\n",
       "      <td>0.0</td>\n",
       "    </tr>\n",
       "  </tbody>\n",
       "</table>\n",
       "<p>59944 rows × 11 columns</p>\n",
       "</div>"
      ],
      "text/plain": [
       "       year  gender   race       income    age            educ fatherPol  \\\n",
       "0      1948    male  white       middle  35-44    Grade School       NaN   \n",
       "1      1948  female  white        upper  35-44     High School       NaN   \n",
       "2      1948  female  white  upperMiddle  25-34     High School       NaN   \n",
       "3      1948  female  white        upper  35-44    Some College       NaN   \n",
       "4      1948    male  white  upperMiddle  25-34    Some College       NaN   \n",
       "...     ...     ...    ...          ...    ...             ...       ...   \n",
       "59939  2016  female  white  upperMiddle  35-44  College Degree       NaN   \n",
       "59940  2016    male  white          NaN  75-99     High School       NaN   \n",
       "59941  2016    male  white        lower  25-34     High School       NaN   \n",
       "59942  2016  female  black        lower  35-44    Some College       NaN   \n",
       "59943  2016    male  white  upperMiddle  45-54  College Degree       NaN   \n",
       "\n",
       "      motherPol  pol  pol7  weight  \n",
       "0           NaN  NaN   NaN     1.0  \n",
       "1           NaN  NaN   NaN     1.0  \n",
       "2           NaN  NaN   NaN     1.0  \n",
       "3           NaN  NaN   NaN     1.0  \n",
       "4           NaN  NaN   NaN     1.0  \n",
       "...         ...  ...   ...     ...  \n",
       "59939       NaN  1.0   1.0     0.0  \n",
       "59940       NaN  1.0   1.0     0.0  \n",
       "59941       NaN  1.0   2.0     0.0  \n",
       "59942       NaN  1.0   1.0     0.0  \n",
       "59943       NaN  3.0   6.0     0.0  \n",
       "\n",
       "[59944 rows x 11 columns]"
      ]
     },
     "execution_count": 109,
     "metadata": {},
     "output_type": "execute_result"
    }
   ],
   "source": [
    "d = {'year': year, 'gender': gender, 'race': race, 'income': income, 'age': age, 'educ':educ, \n",
    "     'fatherPol':fatherPol, 'motherPol': motherPol, 'pol': pol, 'pol7': pol7, 'weight':anes['VCF0009x']}\n",
    "data = pd.DataFrame(data=d)\n",
    "data"
   ]
  },
  {
   "cell_type": "markdown",
   "metadata": {},
   "source": [
    "## Resampling and Weighting"
   ]
  },
  {
   "cell_type": "code",
   "execution_count": 110,
   "metadata": {},
   "outputs": [],
   "source": [
    "def resample_rows_weighted(df, column):\n",
    "    \"\"\"Resamples a DataFrame using probabilities proportional to given column.\n",
    "\n",
    "    df: DataFrame\n",
    "    column: string column name to use as weights\n",
    "\n",
    "    returns: DataFrame\n",
    "    \"\"\"\n",
    "    weights = df[column]\n",
    "    sample = df.sample(n=len(df), replace=True, weights=weights)\n",
    "    return sample"
   ]
  },
  {
   "cell_type": "code",
   "execution_count": 111,
   "metadata": {},
   "outputs": [],
   "source": [
    "def resample_by_year(df, column):\n",
    "    \"\"\"Resample rows within each year.\n",
    "\n",
    "    df: DataFrame\n",
    "    column: string name of weight variable\n",
    "\n",
    "    returns DataFrame\n",
    "    \"\"\"\n",
    "    grouped = df.groupby('year') # group by year\n",
    "    samples = [resample_rows_weighted(group, column)\n",
    "               for _, group in grouped]\n",
    "    sample = pd.concat(samples, ignore_index=True)\n",
    "    return sample"
   ]
  },
  {
   "cell_type": "code",
   "execution_count": 116,
   "metadata": {},
   "outputs": [
    {
     "data": {
      "text/html": [
       "<div>\n",
       "<style scoped>\n",
       "    .dataframe tbody tr th:only-of-type {\n",
       "        vertical-align: middle;\n",
       "    }\n",
       "\n",
       "    .dataframe tbody tr th {\n",
       "        vertical-align: top;\n",
       "    }\n",
       "\n",
       "    .dataframe thead th {\n",
       "        text-align: right;\n",
       "    }\n",
       "</style>\n",
       "<table border=\"1\" class=\"dataframe\">\n",
       "  <thead>\n",
       "    <tr style=\"text-align: right;\">\n",
       "      <th></th>\n",
       "      <th>year</th>\n",
       "      <th>gender</th>\n",
       "      <th>race</th>\n",
       "      <th>income</th>\n",
       "      <th>age</th>\n",
       "      <th>educ</th>\n",
       "      <th>fatherPol</th>\n",
       "      <th>motherPol</th>\n",
       "      <th>pol</th>\n",
       "      <th>pol7</th>\n",
       "      <th>weight</th>\n",
       "    </tr>\n",
       "  </thead>\n",
       "  <tbody>\n",
       "    <tr>\n",
       "      <th>0</th>\n",
       "      <td>1948</td>\n",
       "      <td>female</td>\n",
       "      <td>white</td>\n",
       "      <td>upper</td>\n",
       "      <td>35-44</td>\n",
       "      <td>High School</td>\n",
       "      <td>NaN</td>\n",
       "      <td>NaN</td>\n",
       "      <td>NaN</td>\n",
       "      <td>NaN</td>\n",
       "      <td>1.000</td>\n",
       "    </tr>\n",
       "    <tr>\n",
       "      <th>1</th>\n",
       "      <td>1948</td>\n",
       "      <td>female</td>\n",
       "      <td>white</td>\n",
       "      <td>middle</td>\n",
       "      <td>25-34</td>\n",
       "      <td>Grade School</td>\n",
       "      <td>NaN</td>\n",
       "      <td>NaN</td>\n",
       "      <td>NaN</td>\n",
       "      <td>NaN</td>\n",
       "      <td>1.000</td>\n",
       "    </tr>\n",
       "    <tr>\n",
       "      <th>2</th>\n",
       "      <td>1948</td>\n",
       "      <td>male</td>\n",
       "      <td>white</td>\n",
       "      <td>middle</td>\n",
       "      <td>35-44</td>\n",
       "      <td>High School</td>\n",
       "      <td>NaN</td>\n",
       "      <td>NaN</td>\n",
       "      <td>NaN</td>\n",
       "      <td>NaN</td>\n",
       "      <td>1.000</td>\n",
       "    </tr>\n",
       "    <tr>\n",
       "      <th>3</th>\n",
       "      <td>1948</td>\n",
       "      <td>female</td>\n",
       "      <td>white</td>\n",
       "      <td>upperMiddle</td>\n",
       "      <td>25-34</td>\n",
       "      <td>High School</td>\n",
       "      <td>NaN</td>\n",
       "      <td>NaN</td>\n",
       "      <td>NaN</td>\n",
       "      <td>NaN</td>\n",
       "      <td>1.000</td>\n",
       "    </tr>\n",
       "    <tr>\n",
       "      <th>4</th>\n",
       "      <td>1948</td>\n",
       "      <td>male</td>\n",
       "      <td>black</td>\n",
       "      <td>middle</td>\n",
       "      <td>45-54</td>\n",
       "      <td>Some College</td>\n",
       "      <td>NaN</td>\n",
       "      <td>NaN</td>\n",
       "      <td>NaN</td>\n",
       "      <td>NaN</td>\n",
       "      <td>1.000</td>\n",
       "    </tr>\n",
       "    <tr>\n",
       "      <th>...</th>\n",
       "      <td>...</td>\n",
       "      <td>...</td>\n",
       "      <td>...</td>\n",
       "      <td>...</td>\n",
       "      <td>...</td>\n",
       "      <td>...</td>\n",
       "      <td>...</td>\n",
       "      <td>...</td>\n",
       "      <td>...</td>\n",
       "      <td>...</td>\n",
       "      <td>...</td>\n",
       "    </tr>\n",
       "    <tr>\n",
       "      <th>59939</th>\n",
       "      <td>2016</td>\n",
       "      <td>male</td>\n",
       "      <td>white</td>\n",
       "      <td>middle</td>\n",
       "      <td>45-54</td>\n",
       "      <td>College Degree</td>\n",
       "      <td>NaN</td>\n",
       "      <td>NaN</td>\n",
       "      <td>1.0</td>\n",
       "      <td>1.0</td>\n",
       "      <td>0.509</td>\n",
       "    </tr>\n",
       "    <tr>\n",
       "      <th>59940</th>\n",
       "      <td>2016</td>\n",
       "      <td>female</td>\n",
       "      <td>other</td>\n",
       "      <td>lower</td>\n",
       "      <td>25-34</td>\n",
       "      <td>High School</td>\n",
       "      <td>NaN</td>\n",
       "      <td>NaN</td>\n",
       "      <td>2.0</td>\n",
       "      <td>4.0</td>\n",
       "      <td>1.882</td>\n",
       "    </tr>\n",
       "    <tr>\n",
       "      <th>59941</th>\n",
       "      <td>2016</td>\n",
       "      <td>male</td>\n",
       "      <td>white</td>\n",
       "      <td>lowerMiddle</td>\n",
       "      <td>25-34</td>\n",
       "      <td>Some College</td>\n",
       "      <td>NaN</td>\n",
       "      <td>NaN</td>\n",
       "      <td>1.0</td>\n",
       "      <td>3.0</td>\n",
       "      <td>3.156</td>\n",
       "    </tr>\n",
       "    <tr>\n",
       "      <th>59942</th>\n",
       "      <td>2016</td>\n",
       "      <td>female</td>\n",
       "      <td>white</td>\n",
       "      <td>upperMiddle</td>\n",
       "      <td>17-24</td>\n",
       "      <td>College Degree</td>\n",
       "      <td>NaN</td>\n",
       "      <td>NaN</td>\n",
       "      <td>1.0</td>\n",
       "      <td>1.0</td>\n",
       "      <td>1.672</td>\n",
       "    </tr>\n",
       "    <tr>\n",
       "      <th>59943</th>\n",
       "      <td>2016</td>\n",
       "      <td>male</td>\n",
       "      <td>white</td>\n",
       "      <td>upperMiddle</td>\n",
       "      <td>45-54</td>\n",
       "      <td>High School</td>\n",
       "      <td>NaN</td>\n",
       "      <td>NaN</td>\n",
       "      <td>3.0</td>\n",
       "      <td>7.0</td>\n",
       "      <td>2.437</td>\n",
       "    </tr>\n",
       "  </tbody>\n",
       "</table>\n",
       "<p>59944 rows × 11 columns</p>\n",
       "</div>"
      ],
      "text/plain": [
       "       year  gender   race       income    age            educ fatherPol  \\\n",
       "0      1948  female  white        upper  35-44     High School       NaN   \n",
       "1      1948  female  white       middle  25-34    Grade School       NaN   \n",
       "2      1948    male  white       middle  35-44     High School       NaN   \n",
       "3      1948  female  white  upperMiddle  25-34     High School       NaN   \n",
       "4      1948    male  black       middle  45-54    Some College       NaN   \n",
       "...     ...     ...    ...          ...    ...             ...       ...   \n",
       "59939  2016    male  white       middle  45-54  College Degree       NaN   \n",
       "59940  2016  female  other        lower  25-34     High School       NaN   \n",
       "59941  2016    male  white  lowerMiddle  25-34    Some College       NaN   \n",
       "59942  2016  female  white  upperMiddle  17-24  College Degree       NaN   \n",
       "59943  2016    male  white  upperMiddle  45-54     High School       NaN   \n",
       "\n",
       "      motherPol  pol  pol7  weight  \n",
       "0           NaN  NaN   NaN   1.000  \n",
       "1           NaN  NaN   NaN   1.000  \n",
       "2           NaN  NaN   NaN   1.000  \n",
       "3           NaN  NaN   NaN   1.000  \n",
       "4           NaN  NaN   NaN   1.000  \n",
       "...         ...  ...   ...     ...  \n",
       "59939       NaN  1.0   1.0   0.509  \n",
       "59940       NaN  2.0   4.0   1.882  \n",
       "59941       NaN  1.0   3.0   3.156  \n",
       "59942       NaN  1.0   1.0   1.672  \n",
       "59943       NaN  3.0   7.0   2.437  \n",
       "\n",
       "[59944 rows x 11 columns]"
      ]
     },
     "execution_count": 116,
     "metadata": {},
     "output_type": "execute_result"
    }
   ],
   "source": [
    "sample = resample_by_year(data, 'weight')\n",
    "sample"
   ]
  },
  {
   "cell_type": "markdown",
   "metadata": {},
   "source": [
    "# Analysis\n",
    "To start, just looking at how individual variables correlate with political affilation:\n",
    "* Gender\n",
    "* Race and Ethnicity\n",
    "* Socio economic status\n",
    "* Age\n",
    "* Mother's political affiliation\n",
    "* Father's political affiliation"
   ]
  },
  {
   "cell_type": "markdown",
   "metadata": {},
   "source": [
    "First some functions to help with plotting:"
   ]
  },
  {
   "cell_type": "code",
   "execution_count": 117,
   "metadata": {},
   "outputs": [],
   "source": [
    "def decorate(**options):\n",
    "    \"\"\"Decorate the current axes.\n",
    "    Call decorate with keyword arguments like\n",
    "    decorate(title='Title',\n",
    "             xlabel='x',\n",
    "             ylabel='y')\n",
    "    The keyword arguments can be any of the axis properties\n",
    "    https://matplotlib.org/api/axes_api.html\n",
    "    \"\"\"\n",
    "    plt.gca().set(**options)\n",
    "    plt.tight_layout()"
   ]
  },
  {
   "cell_type": "code",
   "execution_count": 118,
   "metadata": {},
   "outputs": [],
   "source": [
    "import itertools\n",
    "def annotateBars(pmf, xOffset, y, barCount, fontsize):\n",
    "    \"\"\"Annotate bars with their values.\n",
    "    \n",
    "    pmf: pmf\n",
    "    xOffset: x offset to calculate x position\n",
    "    y: y position\n",
    "    barCount: number of bars per point\n",
    "    fontsize: fontsize in pixels\n",
    "    \"\"\"\n",
    "    xScale = pmf.qs[0]\n",
    "    fontsize = fontsize\n",
    "#     fontsize = (20/barCount)*(10/len(pmf)) # account for number of bars and the width of the plot (based on points on scale)\n",
    "#     if fontsize > 24:\n",
    "#         fontsize = 24\n",
    "    \n",
    "    for (x, val) in zip(pmf.qs, pmf.values):\n",
    "        val = round(val, 2)\n",
    "        x = x + xOffset - xScale/10 # center on bar\n",
    "        plt.text(x, y, str(val).strip('0'), fontstyle='oblique', fontweight=600, fontsize=fontsize, rotation=45)"
   ]
  },
  {
   "cell_type": "code",
   "execution_count": 123,
   "metadata": {},
   "outputs": [],
   "source": [
    "def pmfComparison(data, fontsize=15, xOffset=0, yOffset=0, **options):\n",
    "    \"\"\"Create bar plot via pmf to compare data.\n",
    "    \n",
    "    data: list of pd.Series\n",
    "    fontsize: fontsize for annotate text\n",
    "    xOffset: x offset for annotate text\n",
    "    yOffset: y offset for annotate text\n",
    "    \"\"\"\n",
    "    labels = [] # series labels\n",
    "    pmfList = [] # list of pmfs for adding labels\n",
    "    width = .8/len(data) # width of bar\n",
    "    plotMin = 1000 # minimum value in plot\n",
    "    \n",
    "    for i, series in enumerate(data):\n",
    "        offset = width*i - width*len(data)/2 # offset derived from order bar is in reference to others       \n",
    "        pmf = Pmf.from_seq(series)\n",
    "        pmfList.append((pmf, offset)) # store pmf\n",
    "        if pmf.min() < plotMin:\n",
    "            plotMin = pmf.min() # store new plot minimum\n",
    "            \n",
    "    for i, (pmf, offset) in enumerate(pmfList): # plot and label each pmf\n",
    "        if i == int(len(data)/2): # if at half way, do any options\n",
    "            plt.bar(pmf.qs+offset, pmf, width=width, align='edge', alpha=0.7, **options) # plot\n",
    "        else: \n",
    "            plt.bar(pmf.qs+offset, pmf, width=width, align='edge', alpha=0.7) # plot\n",
    "        annotateBars(pmf, offset + xOffset, plotMin/4 + yOffset, len(data), fontsize) # annotate\n",
    "        labels.append(pmf.name) # store label\n",
    "        \n",
    "    plt.legend(labels) # label"
   ]
  },
  {
   "cell_type": "markdown",
   "metadata": {},
   "source": [
    "## Gender\n",
    "Let's grab the political affiliation for men and women:"
   ]
  },
  {
   "cell_type": "code",
   "execution_count": 124,
   "metadata": {},
   "outputs": [],
   "source": [
    "female = data[data['gender']=='female']['pol7']\n",
    "female.name = 'Women'\n",
    "male = data[data['gender']=='male']['pol7']\n",
    "male.name = 'Men'"
   ]
  },
  {
   "cell_type": "markdown",
   "metadata": {},
   "source": [
    "And visualize the political spread of men and women:"
   ]
  },
  {
   "cell_type": "code",
   "execution_count": 125,
   "metadata": {},
   "outputs": [
    {
     "data": {
      "image/png": "[encoded data removed]",
      "text/plain": [
       "<Figure size 432x288 with 1 Axes>"
      ]
     },
     "metadata": {
      "needs_background": "light"
     },
     "output_type": "display_data"
    }
   ],
   "source": [
    "pmfComparison([female, male])\n",
    "decorate(xlabel='Political view on a 7-point scale',\n",
    "         ylabel='Fraction of population', \n",
    "         title='Distribution of political views')"
   ]
  },
  {
   "cell_type": "markdown",
   "metadata": {},
   "source": [
    "Just as a refresher, 4 is the center, 1 is the most democrat, and 7 is the most republican:\n",
    "\n",
    "1. Strong Democrat\n",
    "2. Weak Democrat\n",
    "3. Independent -Democrat\n",
    "4. Independent -Independent\n",
    "5. Independent -Republican\n",
    "6. Weak Republican\n",
    "7. Strong Republican\n",
    "\n"
   ]
  },
  {
   "cell_type": "markdown",
   "metadata": {},
   "source": [
    "Women are more likely to be be at the far left end of the political spectrum by a few percentage points, with men more likely to be further to the right. It looks like men may be more moderate in general than women. There is a very small difference between the number of republican men and than women (though there are still more), while there are significantly more democrat women than men."
   ]
  },
  {
   "cell_type": "markdown",
   "metadata": {},
   "source": [
    "Now let's reduce the number of categories to see if we can see anything else. We will be using the pol variable which groups into 3 categories (1-3 as democrats, 5-7 as republicans, and 4 as independents)."
   ]
  },
  {
   "cell_type": "code",
   "execution_count": 126,
   "metadata": {},
   "outputs": [],
   "source": [
    "female2 = data[data['gender']=='female']['pol']\n",
    "female2.name = 'Women'\n",
    "male2 = data[data['gender']=='male']['pol']\n",
    "male2.name = 'Men'"
   ]
  },
  {
   "cell_type": "code",
   "execution_count": 127,
   "metadata": {},
   "outputs": [
    {
     "data": {
      "image/png": "[encoded data removed]",
      "text/plain": [
       "<Figure size 432x288 with 1 Axes>"
      ]
     },
     "metadata": {
      "needs_background": "light"
     },
     "output_type": "display_data"
    }
   ],
   "source": [
    "pmfComparison([female2, male2], tick_label = ['Democrat', 'Independent', 'Republican'], xOffset=.15)\n",
    "decorate(xlabel='Political view on a 3-point scale',ylabel='Fraction of population', title='Distribution of political views')"
   ]
  },
  {
   "cell_type": "markdown",
   "metadata": {},
   "source": [
    "Now it is quite a bit easier to see that women tend to lean democrat, and men tend to lean republican. There are about 4 percentage points more women democrats than men democrats. There are about 4 percentage points more men republicans than women republicans."
   ]
  },
  {
   "cell_type": "markdown",
   "metadata": {},
   "source": [
    "Now let's just look at the people who fully identify with a political party. We will use our seven point scale from earlier to create a new three point scale. 1-2 will be democrats, 6-7 republicans, and 3-5 independents."
   ]
  },
  {
   "cell_type": "code",
   "execution_count": 128,
   "metadata": {},
   "outputs": [],
   "source": [
    "remap = {1: 1, 2: 1, \n",
    "         3: 2, 4: 2, 5: 2, \n",
    "         6: 3, 7: 3}\n",
    "\n",
    "female3 = female.replace(remap)\n",
    "male3 = male.replace(remap)"
   ]
  },
  {
   "cell_type": "code",
   "execution_count": 129,
   "metadata": {},
   "outputs": [
    {
     "data": {
      "image/png": "[encoded data removed]",
      "text/plain": [
       "<Figure size 432x288 with 1 Axes>"
      ]
     },
     "metadata": {
      "needs_background": "light"
     },
     "output_type": "display_data"
    }
   ],
   "source": [
    "pmfComparison([female3, male3], tick_label = ['Democrat', 'Independent', 'Republican'], xOffset=.15)\n",
    "decorate(xlabel='Political view on a 3-point scale',ylabel='Fraction of population', title='Distribution of political views')"
   ]
  },
  {
   "cell_type": "markdown",
   "metadata": {},
   "source": [
    "When only looking at people who fully identitfy with a political party, we can see the tendency for women to lean harder democrat than men lean republican. There are 6 percentage points more women democrats than men. There are less than 1 percenttage point more men republicans than women republicans."
   ]
  },
  {
   "cell_type": "markdown",
   "metadata": {},
   "source": [
    "## Race and Ethnicity\n",
    "\n",
    "Let's grab the political affiliation for people of different races and ethnicities:"
   ]
  },
  {
   "cell_type": "code",
   "execution_count": 130,
   "metadata": {},
   "outputs": [],
   "source": [
    "black = data[data['race']=='black']['pol7']\n",
    "black.name = 'Black'\n",
    "white = data[data['race']=='white']['pol7']\n",
    "white.name = 'White'\n",
    "hispanic = data[data['race']=='hispanic']['pol7']\n",
    "hispanic.name = 'Hispanic'\n",
    "other = data[data['race']=='other']['pol7']\n",
    "other.name = 'Other'"
   ]
  },
  {
   "cell_type": "markdown",
   "metadata": {},
   "source": [
    "Now for the visualization of political affiliation by race and ethnicity:"
   ]
  },
  {
   "cell_type": "code",
   "execution_count": 131,
   "metadata": {},
   "outputs": [
    {
     "data": {
      "image/png": "[encoded data removed]",
      "text/plain": [
       "<Figure size 864x576 with 1 Axes>"
      ]
     },
     "metadata": {
      "needs_background": "light"
     },
     "output_type": "display_data"
    }
   ],
   "source": [
    "figure(figsize=(12, 8))\n",
    "pmfComparison([black, white, hispanic, other], fontsize=14, xOffset=.08)\n",
    "decorate(xlabel='Political view on a 7-point scale',\n",
    "         ylabel='Fraction of population',\n",
    "         title='Distribution of political views')"
   ]
  },
  {
   "cell_type": "markdown",
   "metadata": {},
   "source": [
    "Just as a refresher, 4 is the center, 1 is the most democrat, and 7 is the most republican:\n",
    "\n",
    "1. Strong Democrat\n",
    "2. Weak Democrat\n",
    "3. Independent -Democrat\n",
    "4. Independent -Independent\n",
    "5. Independent -Republican\n",
    "6. Weak Republican\n",
    "7. Strong Republican\n",
    "\n"
   ]
  },
  {
   "cell_type": "markdown",
   "metadata": {},
   "source": [
    "Now let's reduce the number of categories to see if we can see anything else. Let's look at this on the three point scale (1-3 democrats, 4 independents, 5-7 republicans."
   ]
  },
  {
   "cell_type": "code",
   "execution_count": 132,
   "metadata": {},
   "outputs": [],
   "source": [
    "black3 = data[data['race']=='black']['pol']\n",
    "black3.name = 'Black'\n",
    "white3 = data[data['race']=='white']['pol']\n",
    "white3.name = 'White'\n",
    "hispanic3 = data[data['race']=='hispanic']['pol']\n",
    "hispanic3.name = 'Hispanic'\n",
    "other3 = data[data['race']=='other']['pol']\n",
    "other3.name = 'Other'"
   ]
  },
  {
   "cell_type": "code",
   "execution_count": 133,
   "metadata": {},
   "outputs": [
    {
     "data": {
      "image/png": "[encoded data removed]",
      "text/plain": [
       "<Figure size 432x288 with 1 Axes>"
      ]
     },
     "metadata": {
      "needs_background": "light"
     },
     "output_type": "display_data"
    }
   ],
   "source": [
    "pmfComparison([black3, white3, hispanic3, other3], tick_label = ['Democrat', 'Independent', 'Republican'], xOffset=0.08)\n",
    "decorate(xlabel='Political view on a 3-point scale',ylabel='Fraction of population', title='Distribution of political views')"
   ]
  },
  {
   "cell_type": "markdown",
   "metadata": {},
   "source": [
    "Now it is quite a bit easier to see that women tend to lean democrat, and men tend to lean republican. There are about 5 percentage points more women democrats than men democrats. There are about 4 percentage points more men republicans than women republicans."
   ]
  },
  {
   "cell_type": "markdown",
   "metadata": {},
   "source": [
    "## Socio Economic Status\n",
    "\n",
    "Let's grab the political affiliation for people of different socio economic statuses:"
   ]
  },
  {
   "cell_type": "code",
   "execution_count": 134,
   "metadata": {},
   "outputs": [],
   "source": [
    "lower = data[data['income']=='lower']['pol']\n",
    "lower.name = 'Lower'\n",
    "\n",
    "lowerMiddle = data[data['income']=='lowerMiddle']['pol']\n",
    "lowerMiddle.name = 'Lower Middle'\n",
    "\n",
    "middle = data[data['income']=='middle']['pol']\n",
    "middle.name = 'Middle'\n",
    "\n",
    "upperMiddle = data[data['income']=='upperMiddle']['pol']\n",
    "upperMiddle.name = 'Upper Middle'\n",
    "\n",
    "upper = data[data['income']=='upper']['pol']\n",
    "upper.name = 'Upper'"
   ]
  },
  {
   "cell_type": "markdown",
   "metadata": {},
   "source": [
    "Here is the translation guide from class label to income percentile:\n",
    "\n",
    "Class Label | Percentile\n",
    "--- | ---\n",
    "Lower | 0 to 16 percentile\n",
    "Lower Middle | 17 to 33 percentile\n",
    "Middle | 34 to 67 percentile\n",
    "Upper Middle | 68 to 95 percentile\n",
    "Upper | 96 to 100 percentile"
   ]
  },
  {
   "cell_type": "markdown",
   "metadata": {},
   "source": [
    "Now for the visualization of political affiliation by socio economic status:"
   ]
  },
  {
   "cell_type": "code",
   "execution_count": 135,
   "metadata": {},
   "outputs": [
    {
     "data": {
      "image/png": "[encoded data removed]",
      "text/plain": [
       "<Figure size 432x288 with 1 Axes>"
      ]
     },
     "metadata": {
      "needs_background": "light"
     },
     "output_type": "display_data"
    }
   ],
   "source": [
    "pmfComparison([lower, lowerMiddle, middle, upperMiddle, upper], tick_label = ['Democrat', 'Independent', 'Republican'], fontsize=14, xOffset=0.09)\n",
    "decorate(xlabel='Political view on a 3-point scale', ylabel='Fraction of population', title='Distribution of political views')"
   ]
  },
  {
   "cell_type": "markdown",
   "metadata": {},
   "source": [
    "ANALYSIS"
   ]
  },
  {
   "cell_type": "markdown",
   "metadata": {},
   "source": [
    "## Age\n",
    "\n",
    "Let's grab the age groups of different respondents:"
   ]
  },
  {
   "cell_type": "code",
   "execution_count": 136,
   "metadata": {},
   "outputs": [
    {
     "data": {
      "text/plain": [
       "17-24     5630\n",
       "25-34    12241\n",
       "35-44    11838\n",
       "45-54    10106\n",
       "55-64     8970\n",
       "65-74     6787\n",
       "75-99     3818\n",
       "Name: age, dtype: int64"
      ]
     },
     "execution_count": 136,
     "metadata": {},
     "output_type": "execute_result"
    }
   ],
   "source": [
    "values(age)"
   ]
  },
  {
   "cell_type": "code",
   "execution_count": 137,
   "metadata": {},
   "outputs": [],
   "source": [
    "ageOne = data[data['age']=='17-24']['pol']\n",
    "ageOne.name = '17-24'\n",
    "\n",
    "ageTwo = data[data['age']=='25-34']['pol']\n",
    "ageTwo.name = '25-34'\n",
    "\n",
    "ageThree = data[data['age']=='35-44']['pol']\n",
    "ageThree.name = '35-44'\n",
    "\n",
    "ageFour = data[data['age']=='45-54']['pol']\n",
    "ageFour.name = '45-54'\n",
    "\n",
    "ageFive = data[data['age']=='55-64']['pol']\n",
    "ageFive.name = '55-64'\n",
    "\n",
    "ageSix = data[data['age']=='65-74']['pol']\n",
    "ageSix.name = '65-74'\n",
    "\n",
    "ageSeven = data[data['age']=='75-99']['pol']\n",
    "ageSeven.name = '75-99'"
   ]
  },
  {
   "cell_type": "markdown",
   "metadata": {},
   "source": [
    "Now for the visualization of political affiliation by socio economic status:"
   ]
  },
  {
   "cell_type": "code",
   "execution_count": 138,
   "metadata": {},
   "outputs": [
    {
     "data": {
      "image/png": "[encoded data removed]",
      "text/plain": [
       "<Figure size 432x288 with 1 Axes>"
      ]
     },
     "metadata": {
      "needs_background": "light"
     },
     "output_type": "display_data"
    }
   ],
   "source": [
    "pmfComparison([ageOne, ageTwo, ageThree, ageFour, ageFive, ageSix, ageSeven], tick_label = ['Democrat', 'Independent', 'Republican'], fontsize=14, xOffset=0.09)\n",
    "decorate(xlabel='Political view on a 3-point scale', ylabel='Fraction of population', title='Distribution of political views')"
   ]
  },
  {
   "cell_type": "markdown",
   "metadata": {},
   "source": [
    "## Education\n",
    "\n",
    "Let's grab the political affiliation for people of different socio economic statuses:"
   ]
  },
  {
   "cell_type": "code",
   "execution_count": 139,
   "metadata": {},
   "outputs": [
    {
     "data": {
      "text/plain": [
       "College Degree    12011\n",
       "Grade School       8098\n",
       "High School       25884\n",
       "Some College      13360\n",
       "Name: educ, dtype: int64"
      ]
     },
     "execution_count": 139,
     "metadata": {},
     "output_type": "execute_result"
    }
   ],
   "source": [
    "values(educ)"
   ]
  },
  {
   "cell_type": "code",
   "execution_count": 140,
   "metadata": {},
   "outputs": [],
   "source": [
    "grade = data[data['educ']=='Grade School']['pol']\n",
    "grade.name = 'Grade School'\n",
    "\n",
    "high = data[data['educ']=='High School']['pol']\n",
    "high.name = 'High School'\n",
    "\n",
    "someCollege = data[data['educ']=='Some College']['pol']\n",
    "someCollege.name = 'Some College'\n",
    "\n",
    "college = data[data['educ']=='College Degree']['pol']\n",
    "college.name = 'College Degree'"
   ]
  },
  {
   "cell_type": "markdown",
   "metadata": {},
   "source": [
    "Now for the visualization of political affiliation by education:"
   ]
  },
  {
   "cell_type": "code",
   "execution_count": 141,
   "metadata": {},
   "outputs": [
    {
     "data": {
      "image/png": "[encoded data removed]",
      "text/plain": [
       "<Figure size 432x288 with 1 Axes>"
      ]
     },
     "metadata": {
      "needs_background": "light"
     },
     "output_type": "display_data"
    }
   ],
   "source": [
    "pmfComparison([grade, high, someCollege, college], tick_label = ['Democrat', 'Independent', 'Republican'], fontsize=14, xOffset=0.09)\n",
    "decorate(xlabel='Political view on a 3-point scale', ylabel='Fraction of population', title='Distribution of political views')"
   ]
  },
  {
   "cell_type": "markdown",
   "metadata": {},
   "source": [
    "## Father Political Affiliation\n",
    "\n",
    "Let's grab the political affiliation of different father's of interviewees:"
   ]
  },
  {
   "cell_type": "code",
   "execution_count": 142,
   "metadata": {},
   "outputs": [],
   "source": [
    "dadDemo = data[data['fatherPol']=='Democrat']['pol']\n",
    "dadDemo.name = 'Democrat Father'\n",
    "\n",
    "dadInde = data[data['fatherPol']=='Independent']['pol']\n",
    "dadInde.name = 'Independent Father'\n",
    "\n",
    "dadRepu = data[data['fatherPol']=='Republican']['pol']\n",
    "dadRepu.name = 'Republican Father'"
   ]
  },
  {
   "cell_type": "markdown",
   "metadata": {},
   "source": [
    "Now for the visualization of political affiliation by socio economic status:"
   ]
  },
  {
   "cell_type": "code",
   "execution_count": 143,
   "metadata": {},
   "outputs": [
    {
     "data": {
      "image/png": "[encoded data removed]",
      "text/plain": [
       "<Figure size 432x288 with 1 Axes>"
      ]
     },
     "metadata": {
      "needs_background": "light"
     },
     "output_type": "display_data"
    }
   ],
   "source": [
    "pmfComparison([dadDemo, dadInde, dadRepu], tick_label = ['Democrat', 'Independent', 'Republican'], fontsize=14, xOffset=0.09)\n",
    "decorate(xlabel='Political view on a 3-point scale', ylabel='Fraction of population', title='Distribution of political views')"
   ]
  },
  {
   "cell_type": "markdown",
   "metadata": {},
   "source": [
    "ANALYSIS"
   ]
  },
  {
   "cell_type": "markdown",
   "metadata": {},
   "source": [
    "## Mother Political Affiliation\n",
    "\n",
    "Let's grab the political affiliation of different mother's of interviewees:"
   ]
  },
  {
   "cell_type": "code",
   "execution_count": 144,
   "metadata": {},
   "outputs": [],
   "source": [
    "momDemo = data[data['motherPol']=='Democrat']['pol']\n",
    "momDemo.name = 'Democrat Mother'\n",
    "\n",
    "momInde = data[data['motherPol']=='Independent']['pol']\n",
    "momInde.name = 'Independent Mother'\n",
    "\n",
    "momRepu = data[data['motherPol']=='Republican']['pol']\n",
    "momRepu.name = 'Republican Mother'"
   ]
  },
  {
   "cell_type": "markdown",
   "metadata": {},
   "source": [
    "Now for the visualization of political affiliation by socio economic status:"
   ]
  },
  {
   "cell_type": "code",
   "execution_count": 145,
   "metadata": {},
   "outputs": [
    {
     "data": {
      "image/png": "[encoded data removed]",
      "text/plain": [
       "<Figure size 432x288 with 1 Axes>"
      ]
     },
     "metadata": {
      "needs_background": "light"
     },
     "output_type": "display_data"
    }
   ],
   "source": [
    "pmfComparison([momDemo, momInde, momRepu], tick_label = ['Democrat', 'Independent', 'Republican'], fontsize=14, xOffset=0.09)\n",
    "decorate(xlabel='Political view on a 3-point scale', ylabel='Fraction of population', title='Distribution of political views')"
   ]
  },
  {
   "cell_type": "markdown",
   "metadata": {},
   "source": [
    "ANALYSIS"
   ]
  },
  {
   "cell_type": "markdown",
   "metadata": {},
   "source": [
    "# Notes\n",
    "* CDF could be useful (see notebook 8)\n",
    "* Regressions (notebook 10)\n",
    "* Plotting pol views over time (mini project 2)\n",
    "* Should probably have one thing over time for gender\n",
    "* Right now we are ignoring shifts over time\n",
    "* Grouping into three political parties: lean towards top two, bottom two, middle 3\n",
    "* VCF0305 - Party identifiaction of respondent (strength of partisanship)\n",
    "* Year vs party affiliation"
   ]
  }
 ],
 "metadata": {
  "kernelspec": {
   "display_name": "Python 3",
   "language": "python",
   "name": "python3"
  },
  "language_info": {
   "codemirror_mode": {
    "name": "ipython",
    "version": 3
   },
   "file_extension": ".py",
   "mimetype": "text/x-python",
   "name": "python",
   "nbconvert_exporter": "python",
   "pygments_lexer": "ipython3",
   "version": "3.8.2"
  }
 },
 "nbformat": 4,
 "nbformat_minor": 4
}
